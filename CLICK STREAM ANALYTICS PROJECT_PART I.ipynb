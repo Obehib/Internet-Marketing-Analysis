{
 "cells": [
  {
   "cell_type": "markdown",
   "metadata": {},
   "source": [
    "# CLICK STREAM ANALYTICS PROJECT_PART I"
   ]
  },
  {
   "cell_type": "code",
   "execution_count": 2,
   "metadata": {},
   "outputs": [],
   "source": [
    "from scipy import stats\n",
    "import pandas as pd\n",
    "import numpy as np\n",
    "import seaborn as sns\n",
    "import matplotlib.pyplot as plt\n",
    "%matplotlib inline\n",
    "import statsmodels.api as sm"
   ]
  },
  {
   "cell_type": "code",
   "execution_count": 3,
   "metadata": {},
   "outputs": [],
   "source": [
    "hcsdata = pd.read_excel('HotelClickStream.xls')"
   ]
  },
  {
   "cell_type": "code",
   "execution_count": 98,
   "metadata": {},
   "outputs": [
    {
     "data": {
      "text/html": [
       "<div>\n",
       "<style scoped>\n",
       "    .dataframe tbody tr th:only-of-type {\n",
       "        vertical-align: middle;\n",
       "    }\n",
       "\n",
       "    .dataframe tbody tr th {\n",
       "        vertical-align: top;\n",
       "    }\n",
       "\n",
       "    .dataframe thead th {\n",
       "        text-align: right;\n",
       "    }\n",
       "</style>\n",
       "<table border=\"1\" class=\"dataframe\">\n",
       "  <thead>\n",
       "    <tr style=\"text-align: right;\">\n",
       "      <th></th>\n",
       "      <th>ID</th>\n",
       "      <th>DOMAIN_ID</th>\n",
       "      <th>MACHINE_ID</th>\n",
       "      <th>SITE_SESSION_ID</th>\n",
       "      <th>TRANS_FREQ</th>\n",
       "      <th>DOMAIN_NAME</th>\n",
       "      <th>DIRECTP_D</th>\n",
       "      <th>PROD_NAME</th>\n",
       "      <th>PROD_QTY</th>\n",
       "      <th>PROD_TOTPRICE</th>\n",
       "      <th>REF_DOMAIN_NAME</th>\n",
       "      <th>DURATION</th>\n",
       "      <th>PAGES_VIEWED</th>\n",
       "      <th>HOUSEHOLD_SIZE</th>\n",
       "      <th>CHILDREN_D</th>\n",
       "      <th>CONNECTIONSPEED_D</th>\n",
       "      <th>REF_D</th>\n",
       "      <th>LOG_PRICE</th>\n",
       "    </tr>\n",
       "  </thead>\n",
       "  <tbody>\n",
       "    <tr>\n",
       "      <td>0</td>\n",
       "      <td>1525</td>\n",
       "      <td>13877604970862366012</td>\n",
       "      <td>85643811</td>\n",
       "      <td>4447900536932</td>\n",
       "      <td>1</td>\n",
       "      <td>ichotelsgroup.com</td>\n",
       "      <td>1</td>\n",
       "      <td>FT. LAUDERDALE AIRPORT/CRUISE - CROWNE PLAZA H...</td>\n",
       "      <td>32</td>\n",
       "      <td>2847.039993</td>\n",
       "      <td>NaN</td>\n",
       "      <td>23.328125</td>\n",
       "      <td>13</td>\n",
       "      <td>6</td>\n",
       "      <td>1</td>\n",
       "      <td>1</td>\n",
       "      <td>0.0</td>\n",
       "      <td>7.954386</td>\n",
       "    </tr>\n",
       "    <tr>\n",
       "      <td>1</td>\n",
       "      <td>402</td>\n",
       "      <td>7101213156062330967</td>\n",
       "      <td>76460408</td>\n",
       "      <td>71774258860245</td>\n",
       "      <td>1</td>\n",
       "      <td>orbitz.com</td>\n",
       "      <td>0</td>\n",
       "      <td>WALT DISNEY WORLD MAGIC YOUR WAY TICKETS! N/A</td>\n",
       "      <td>1</td>\n",
       "      <td>2406.939995</td>\n",
       "      <td>yahoo.com</td>\n",
       "      <td>47.109375</td>\n",
       "      <td>17</td>\n",
       "      <td>2</td>\n",
       "      <td>1</td>\n",
       "      <td>1</td>\n",
       "      <td>1.0</td>\n",
       "      <td>7.786527</td>\n",
       "    </tr>\n",
       "    <tr>\n",
       "      <td>2</td>\n",
       "      <td>233</td>\n",
       "      <td>7772350535129410931</td>\n",
       "      <td>74286590</td>\n",
       "      <td>3825866182640</td>\n",
       "      <td>1</td>\n",
       "      <td>hyatt.com</td>\n",
       "      <td>1</td>\n",
       "      <td>HYATT REGENCY MAUI RESORT  SPA FRI 11 MAR 2011...</td>\n",
       "      <td>5</td>\n",
       "      <td>2168.000000</td>\n",
       "      <td>google.com</td>\n",
       "      <td>20.058594</td>\n",
       "      <td>19</td>\n",
       "      <td>1</td>\n",
       "      <td>0</td>\n",
       "      <td>1</td>\n",
       "      <td>1.0</td>\n",
       "      <td>7.682022</td>\n",
       "    </tr>\n",
       "    <tr>\n",
       "      <td>3</td>\n",
       "      <td>2362</td>\n",
       "      <td>9530952911301729568</td>\n",
       "      <td>90015830</td>\n",
       "      <td>70000481538306</td>\n",
       "      <td>1</td>\n",
       "      <td>expedia.com</td>\n",
       "      <td>0</td>\n",
       "      <td>HOTEL - THE ADDRESS DUBAI MARINA ~SAT DEC/10/2...</td>\n",
       "      <td>5</td>\n",
       "      <td>1958.699997</td>\n",
       "      <td>NaN</td>\n",
       "      <td>47.546875</td>\n",
       "      <td>39</td>\n",
       "      <td>1</td>\n",
       "      <td>0</td>\n",
       "      <td>1</td>\n",
       "      <td>0.0</td>\n",
       "      <td>7.580547</td>\n",
       "    </tr>\n",
       "    <tr>\n",
       "      <td>4</td>\n",
       "      <td>2738</td>\n",
       "      <td>4024709573451844450</td>\n",
       "      <td>91435029</td>\n",
       "      <td>5158448795791</td>\n",
       "      <td>2</td>\n",
       "      <td>starwoodhotels.com</td>\n",
       "      <td>1</td>\n",
       "      <td>HOTEL-W NEW YORK - TIMES SQUARE 08/18~08/21</td>\n",
       "      <td>3</td>\n",
       "      <td>1797.000000</td>\n",
       "      <td>whotels.com</td>\n",
       "      <td>14.599609</td>\n",
       "      <td>19</td>\n",
       "      <td>1</td>\n",
       "      <td>0</td>\n",
       "      <td>1</td>\n",
       "      <td>1.0</td>\n",
       "      <td>7.494430</td>\n",
       "    </tr>\n",
       "  </tbody>\n",
       "</table>\n",
       "</div>"
      ],
      "text/plain": [
       "     ID             DOMAIN_ID  MACHINE_ID  SITE_SESSION_ID  TRANS_FREQ  \\\n",
       "0  1525  13877604970862366012    85643811    4447900536932           1   \n",
       "1   402   7101213156062330967    76460408   71774258860245           1   \n",
       "2   233   7772350535129410931    74286590    3825866182640           1   \n",
       "3  2362   9530952911301729568    90015830   70000481538306           1   \n",
       "4  2738   4024709573451844450    91435029    5158448795791           2   \n",
       "\n",
       "          DOMAIN_NAME  DIRECTP_D  \\\n",
       "0   ichotelsgroup.com          1   \n",
       "1          orbitz.com          0   \n",
       "2           hyatt.com          1   \n",
       "3         expedia.com          0   \n",
       "4  starwoodhotels.com          1   \n",
       "\n",
       "                                           PROD_NAME  PROD_QTY  PROD_TOTPRICE  \\\n",
       "0  FT. LAUDERDALE AIRPORT/CRUISE - CROWNE PLAZA H...        32    2847.039993   \n",
       "1      WALT DISNEY WORLD MAGIC YOUR WAY TICKETS! N/A         1    2406.939995   \n",
       "2  HYATT REGENCY MAUI RESORT  SPA FRI 11 MAR 2011...         5    2168.000000   \n",
       "3  HOTEL - THE ADDRESS DUBAI MARINA ~SAT DEC/10/2...         5    1958.699997   \n",
       "4        HOTEL-W NEW YORK - TIMES SQUARE 08/18~08/21         3    1797.000000   \n",
       "\n",
       "  REF_DOMAIN_NAME   DURATION  PAGES_VIEWED  HOUSEHOLD_SIZE  CHILDREN_D  \\\n",
       "0             NaN  23.328125            13               6           1   \n",
       "1       yahoo.com  47.109375            17               2           1   \n",
       "2      google.com  20.058594            19               1           0   \n",
       "3             NaN  47.546875            39               1           0   \n",
       "4     whotels.com  14.599609            19               1           0   \n",
       "\n",
       "   CONNECTIONSPEED_D  REF_D  LOG_PRICE  \n",
       "0                  1    0.0   7.954386  \n",
       "1                  1    1.0   7.786527  \n",
       "2                  1    1.0   7.682022  \n",
       "3                  1    0.0   7.580547  \n",
       "4                  1    1.0   7.494430  "
      ]
     },
     "execution_count": 98,
     "metadata": {},
     "output_type": "execute_result"
    }
   ],
   "source": [
    "hcsdata.head()"
   ]
  },
  {
   "cell_type": "code",
   "execution_count": 5,
   "metadata": {},
   "outputs": [
    {
     "name": "stdout",
     "output_type": "stream",
     "text": [
      "<class 'pandas.core.frame.DataFrame'>\n",
      "RangeIndex: 3749 entries, 0 to 3748\n",
      "Data columns (total 16 columns):\n",
      "ID                   3749 non-null int64\n",
      "DOMAIN_ID            3749 non-null uint64\n",
      "MACHINE_ID           3749 non-null int64\n",
      "SITE_SESSION_ID      3749 non-null int64\n",
      "TRANS_FREQ           3749 non-null int64\n",
      "DOMAIN_NAME          3749 non-null object\n",
      "DIRECTP_D            3749 non-null int64\n",
      "PROD_NAME            3749 non-null object\n",
      "PROD_QTY             3749 non-null int64\n",
      "PROD_TOTPRICE        3749 non-null float64\n",
      "REF_DOMAIN_NAME      1687 non-null object\n",
      "DURATION             3749 non-null float64\n",
      "PAGES_VIEWED         3749 non-null int64\n",
      "HOUSEHOLD_SIZE       3749 non-null int64\n",
      "CHILDREN_D           3749 non-null int64\n",
      "CONNECTIONSPEED_D    3749 non-null int64\n",
      "dtypes: float64(2), int64(10), object(3), uint64(1)\n",
      "memory usage: 468.8+ KB\n"
     ]
    }
   ],
   "source": [
    "hcsdata.info()"
   ]
  },
  {
   "cell_type": "code",
   "execution_count": 6,
   "metadata": {},
   "outputs": [
    {
     "data": {
      "text/html": [
       "<div>\n",
       "<style scoped>\n",
       "    .dataframe tbody tr th:only-of-type {\n",
       "        vertical-align: middle;\n",
       "    }\n",
       "\n",
       "    .dataframe tbody tr th {\n",
       "        vertical-align: top;\n",
       "    }\n",
       "\n",
       "    .dataframe thead th {\n",
       "        text-align: right;\n",
       "    }\n",
       "</style>\n",
       "<table border=\"1\" class=\"dataframe\">\n",
       "  <thead>\n",
       "    <tr style=\"text-align: right;\">\n",
       "      <th></th>\n",
       "      <th>ID</th>\n",
       "      <th>DOMAIN_ID</th>\n",
       "      <th>MACHINE_ID</th>\n",
       "      <th>SITE_SESSION_ID</th>\n",
       "      <th>TRANS_FREQ</th>\n",
       "      <th>DIRECTP_D</th>\n",
       "      <th>PROD_QTY</th>\n",
       "      <th>PROD_TOTPRICE</th>\n",
       "      <th>DURATION</th>\n",
       "      <th>PAGES_VIEWED</th>\n",
       "      <th>HOUSEHOLD_SIZE</th>\n",
       "      <th>CHILDREN_D</th>\n",
       "      <th>CONNECTIONSPEED_D</th>\n",
       "    </tr>\n",
       "  </thead>\n",
       "  <tbody>\n",
       "    <tr>\n",
       "      <td>count</td>\n",
       "      <td>3749.000000</td>\n",
       "      <td>3.749000e+03</td>\n",
       "      <td>3.749000e+03</td>\n",
       "      <td>3.749000e+03</td>\n",
       "      <td>3749.000000</td>\n",
       "      <td>3749.000000</td>\n",
       "      <td>3749.000000</td>\n",
       "      <td>3749.000000</td>\n",
       "      <td>3749.000000</td>\n",
       "      <td>3749.000000</td>\n",
       "      <td>3749.000000</td>\n",
       "      <td>3749.000000</td>\n",
       "      <td>3749.000000</td>\n",
       "    </tr>\n",
       "    <tr>\n",
       "      <td>mean</td>\n",
       "      <td>1877.293678</td>\n",
       "      <td>8.436032e+18</td>\n",
       "      <td>8.615370e+07</td>\n",
       "      <td>1.976820e+13</td>\n",
       "      <td>2.981328</td>\n",
       "      <td>0.481462</td>\n",
       "      <td>1.717258</td>\n",
       "      <td>163.859624</td>\n",
       "      <td>25.317508</td>\n",
       "      <td>18.331288</td>\n",
       "      <td>3.273940</td>\n",
       "      <td>0.603894</td>\n",
       "      <td>0.992265</td>\n",
       "    </tr>\n",
       "    <tr>\n",
       "      <td>std</td>\n",
       "      <td>1083.651205</td>\n",
       "      <td>4.548078e+18</td>\n",
       "      <td>6.798597e+06</td>\n",
       "      <td>2.750259e+13</td>\n",
       "      <td>4.120927</td>\n",
       "      <td>0.499723</td>\n",
       "      <td>1.387385</td>\n",
       "      <td>184.484515</td>\n",
       "      <td>22.806497</td>\n",
       "      <td>16.636523</td>\n",
       "      <td>4.388536</td>\n",
       "      <td>0.489152</td>\n",
       "      <td>0.087622</td>\n",
       "    </tr>\n",
       "    <tr>\n",
       "      <td>min</td>\n",
       "      <td>1.000000</td>\n",
       "      <td>8.614049e+17</td>\n",
       "      <td>1.764018e+07</td>\n",
       "      <td>3.170357e+12</td>\n",
       "      <td>1.000000</td>\n",
       "      <td>0.000000</td>\n",
       "      <td>0.000000</td>\n",
       "      <td>0.000000</td>\n",
       "      <td>0.029999</td>\n",
       "      <td>1.000000</td>\n",
       "      <td>1.000000</td>\n",
       "      <td>0.000000</td>\n",
       "      <td>0.000000</td>\n",
       "    </tr>\n",
       "    <tr>\n",
       "      <td>25%</td>\n",
       "      <td>939.000000</td>\n",
       "      <td>5.078454e+18</td>\n",
       "      <td>8.197324e+07</td>\n",
       "      <td>4.404378e+12</td>\n",
       "      <td>1.000000</td>\n",
       "      <td>0.000000</td>\n",
       "      <td>1.000000</td>\n",
       "      <td>71.950000</td>\n",
       "      <td>9.449219</td>\n",
       "      <td>8.000000</td>\n",
       "      <td>2.000000</td>\n",
       "      <td>0.000000</td>\n",
       "      <td>1.000000</td>\n",
       "    </tr>\n",
       "    <tr>\n",
       "      <td>50%</td>\n",
       "      <td>1878.000000</td>\n",
       "      <td>7.317461e+18</td>\n",
       "      <td>8.698025e+07</td>\n",
       "      <td>5.037588e+12</td>\n",
       "      <td>2.000000</td>\n",
       "      <td>0.000000</td>\n",
       "      <td>1.000000</td>\n",
       "      <td>115.990000</td>\n",
       "      <td>17.777344</td>\n",
       "      <td>13.000000</td>\n",
       "      <td>3.000000</td>\n",
       "      <td>1.000000</td>\n",
       "      <td>1.000000</td>\n",
       "    </tr>\n",
       "    <tr>\n",
       "      <td>75%</td>\n",
       "      <td>2815.000000</td>\n",
       "      <td>9.530953e+18</td>\n",
       "      <td>9.165384e+07</td>\n",
       "      <td>6.535772e+12</td>\n",
       "      <td>3.000000</td>\n",
       "      <td>1.000000</td>\n",
       "      <td>2.000000</td>\n",
       "      <td>199.980000</td>\n",
       "      <td>33.656250</td>\n",
       "      <td>23.000000</td>\n",
       "      <td>4.000000</td>\n",
       "      <td>1.000000</td>\n",
       "      <td>1.000000</td>\n",
       "    </tr>\n",
       "    <tr>\n",
       "      <td>max</td>\n",
       "      <td>3753.000000</td>\n",
       "      <td>1.747520e+19</td>\n",
       "      <td>9.532007e+07</td>\n",
       "      <td>7.441268e+13</td>\n",
       "      <td>30.000000</td>\n",
       "      <td>1.000000</td>\n",
       "      <td>32.000000</td>\n",
       "      <td>2847.039993</td>\n",
       "      <td>227.343750</td>\n",
       "      <td>141.000000</td>\n",
       "      <td>99.000000</td>\n",
       "      <td>1.000000</td>\n",
       "      <td>1.000000</td>\n",
       "    </tr>\n",
       "  </tbody>\n",
       "</table>\n",
       "</div>"
      ],
      "text/plain": [
       "                ID     DOMAIN_ID    MACHINE_ID  SITE_SESSION_ID   TRANS_FREQ  \\\n",
       "count  3749.000000  3.749000e+03  3.749000e+03     3.749000e+03  3749.000000   \n",
       "mean   1877.293678  8.436032e+18  8.615370e+07     1.976820e+13     2.981328   \n",
       "std    1083.651205  4.548078e+18  6.798597e+06     2.750259e+13     4.120927   \n",
       "min       1.000000  8.614049e+17  1.764018e+07     3.170357e+12     1.000000   \n",
       "25%     939.000000  5.078454e+18  8.197324e+07     4.404378e+12     1.000000   \n",
       "50%    1878.000000  7.317461e+18  8.698025e+07     5.037588e+12     2.000000   \n",
       "75%    2815.000000  9.530953e+18  9.165384e+07     6.535772e+12     3.000000   \n",
       "max    3753.000000  1.747520e+19  9.532007e+07     7.441268e+13    30.000000   \n",
       "\n",
       "         DIRECTP_D     PROD_QTY  PROD_TOTPRICE     DURATION  PAGES_VIEWED  \\\n",
       "count  3749.000000  3749.000000    3749.000000  3749.000000   3749.000000   \n",
       "mean      0.481462     1.717258     163.859624    25.317508     18.331288   \n",
       "std       0.499723     1.387385     184.484515    22.806497     16.636523   \n",
       "min       0.000000     0.000000       0.000000     0.029999      1.000000   \n",
       "25%       0.000000     1.000000      71.950000     9.449219      8.000000   \n",
       "50%       0.000000     1.000000     115.990000    17.777344     13.000000   \n",
       "75%       1.000000     2.000000     199.980000    33.656250     23.000000   \n",
       "max       1.000000    32.000000    2847.039993   227.343750    141.000000   \n",
       "\n",
       "       HOUSEHOLD_SIZE   CHILDREN_D  CONNECTIONSPEED_D  \n",
       "count     3749.000000  3749.000000        3749.000000  \n",
       "mean         3.273940     0.603894           0.992265  \n",
       "std          4.388536     0.489152           0.087622  \n",
       "min          1.000000     0.000000           0.000000  \n",
       "25%          2.000000     0.000000           1.000000  \n",
       "50%          3.000000     1.000000           1.000000  \n",
       "75%          4.000000     1.000000           1.000000  \n",
       "max         99.000000     1.000000           1.000000  "
      ]
     },
     "execution_count": 6,
     "metadata": {},
     "output_type": "execute_result"
    }
   ],
   "source": [
    "hcsdata.describe()"
   ]
  },
  {
   "cell_type": "markdown",
   "metadata": {},
   "source": [
    "# 1) Please first create the following 2 additional variables into your data \n",
    "* 1) REF_D (create a dummy variable indicating whether the transaction was referenced from other website, if not, the final booking website was directly accessed. \n",
    "* If no information provided for the variable REF_DOMAIN_NAME, REF_D = 0; otherwise REF_D = 1) "
   ]
  },
  {
   "cell_type": "code",
   "execution_count": 7,
   "metadata": {},
   "outputs": [],
   "source": [
    "hcsdata.loc[pd.isna(hcsdata.REF_DOMAIN_NAME),'REF_D']=0\n",
    "hcsdata.loc[pd.notna(hcsdata.REF_DOMAIN_NAME),'REF_D']=1"
   ]
  },
  {
   "cell_type": "code",
   "execution_count": 8,
   "metadata": {},
   "outputs": [
    {
     "data": {
      "text/html": [
       "<div>\n",
       "<style scoped>\n",
       "    .dataframe tbody tr th:only-of-type {\n",
       "        vertical-align: middle;\n",
       "    }\n",
       "\n",
       "    .dataframe tbody tr th {\n",
       "        vertical-align: top;\n",
       "    }\n",
       "\n",
       "    .dataframe thead th {\n",
       "        text-align: right;\n",
       "    }\n",
       "</style>\n",
       "<table border=\"1\" class=\"dataframe\">\n",
       "  <thead>\n",
       "    <tr style=\"text-align: right;\">\n",
       "      <th></th>\n",
       "      <th>ID</th>\n",
       "      <th>DOMAIN_ID</th>\n",
       "      <th>MACHINE_ID</th>\n",
       "      <th>SITE_SESSION_ID</th>\n",
       "      <th>TRANS_FREQ</th>\n",
       "      <th>DOMAIN_NAME</th>\n",
       "      <th>DIRECTP_D</th>\n",
       "      <th>PROD_NAME</th>\n",
       "      <th>PROD_QTY</th>\n",
       "      <th>PROD_TOTPRICE</th>\n",
       "      <th>REF_DOMAIN_NAME</th>\n",
       "      <th>DURATION</th>\n",
       "      <th>PAGES_VIEWED</th>\n",
       "      <th>HOUSEHOLD_SIZE</th>\n",
       "      <th>CHILDREN_D</th>\n",
       "      <th>CONNECTIONSPEED_D</th>\n",
       "      <th>REF_D</th>\n",
       "    </tr>\n",
       "  </thead>\n",
       "  <tbody>\n",
       "    <tr>\n",
       "      <td>0</td>\n",
       "      <td>1525</td>\n",
       "      <td>13877604970862366012</td>\n",
       "      <td>85643811</td>\n",
       "      <td>4447900536932</td>\n",
       "      <td>1</td>\n",
       "      <td>ichotelsgroup.com</td>\n",
       "      <td>1</td>\n",
       "      <td>FT. LAUDERDALE AIRPORT/CRUISE - CROWNE PLAZA H...</td>\n",
       "      <td>32</td>\n",
       "      <td>2847.039993</td>\n",
       "      <td>NaN</td>\n",
       "      <td>23.328125</td>\n",
       "      <td>13</td>\n",
       "      <td>6</td>\n",
       "      <td>1</td>\n",
       "      <td>1</td>\n",
       "      <td>0.0</td>\n",
       "    </tr>\n",
       "    <tr>\n",
       "      <td>1</td>\n",
       "      <td>402</td>\n",
       "      <td>7101213156062330967</td>\n",
       "      <td>76460408</td>\n",
       "      <td>71774258860245</td>\n",
       "      <td>1</td>\n",
       "      <td>orbitz.com</td>\n",
       "      <td>0</td>\n",
       "      <td>WALT DISNEY WORLD MAGIC YOUR WAY TICKETS! N/A</td>\n",
       "      <td>1</td>\n",
       "      <td>2406.939995</td>\n",
       "      <td>yahoo.com</td>\n",
       "      <td>47.109375</td>\n",
       "      <td>17</td>\n",
       "      <td>2</td>\n",
       "      <td>1</td>\n",
       "      <td>1</td>\n",
       "      <td>1.0</td>\n",
       "    </tr>\n",
       "    <tr>\n",
       "      <td>2</td>\n",
       "      <td>233</td>\n",
       "      <td>7772350535129410931</td>\n",
       "      <td>74286590</td>\n",
       "      <td>3825866182640</td>\n",
       "      <td>1</td>\n",
       "      <td>hyatt.com</td>\n",
       "      <td>1</td>\n",
       "      <td>HYATT REGENCY MAUI RESORT  SPA FRI 11 MAR 2011...</td>\n",
       "      <td>5</td>\n",
       "      <td>2168.000000</td>\n",
       "      <td>google.com</td>\n",
       "      <td>20.058594</td>\n",
       "      <td>19</td>\n",
       "      <td>1</td>\n",
       "      <td>0</td>\n",
       "      <td>1</td>\n",
       "      <td>1.0</td>\n",
       "    </tr>\n",
       "    <tr>\n",
       "      <td>3</td>\n",
       "      <td>2362</td>\n",
       "      <td>9530952911301729568</td>\n",
       "      <td>90015830</td>\n",
       "      <td>70000481538306</td>\n",
       "      <td>1</td>\n",
       "      <td>expedia.com</td>\n",
       "      <td>0</td>\n",
       "      <td>HOTEL - THE ADDRESS DUBAI MARINA ~SAT DEC/10/2...</td>\n",
       "      <td>5</td>\n",
       "      <td>1958.699997</td>\n",
       "      <td>NaN</td>\n",
       "      <td>47.546875</td>\n",
       "      <td>39</td>\n",
       "      <td>1</td>\n",
       "      <td>0</td>\n",
       "      <td>1</td>\n",
       "      <td>0.0</td>\n",
       "    </tr>\n",
       "    <tr>\n",
       "      <td>4</td>\n",
       "      <td>2738</td>\n",
       "      <td>4024709573451844450</td>\n",
       "      <td>91435029</td>\n",
       "      <td>5158448795791</td>\n",
       "      <td>2</td>\n",
       "      <td>starwoodhotels.com</td>\n",
       "      <td>1</td>\n",
       "      <td>HOTEL-W NEW YORK - TIMES SQUARE 08/18~08/21</td>\n",
       "      <td>3</td>\n",
       "      <td>1797.000000</td>\n",
       "      <td>whotels.com</td>\n",
       "      <td>14.599609</td>\n",
       "      <td>19</td>\n",
       "      <td>1</td>\n",
       "      <td>0</td>\n",
       "      <td>1</td>\n",
       "      <td>1.0</td>\n",
       "    </tr>\n",
       "  </tbody>\n",
       "</table>\n",
       "</div>"
      ],
      "text/plain": [
       "     ID             DOMAIN_ID  MACHINE_ID  SITE_SESSION_ID  TRANS_FREQ  \\\n",
       "0  1525  13877604970862366012    85643811    4447900536932           1   \n",
       "1   402   7101213156062330967    76460408   71774258860245           1   \n",
       "2   233   7772350535129410931    74286590    3825866182640           1   \n",
       "3  2362   9530952911301729568    90015830   70000481538306           1   \n",
       "4  2738   4024709573451844450    91435029    5158448795791           2   \n",
       "\n",
       "          DOMAIN_NAME  DIRECTP_D  \\\n",
       "0   ichotelsgroup.com          1   \n",
       "1          orbitz.com          0   \n",
       "2           hyatt.com          1   \n",
       "3         expedia.com          0   \n",
       "4  starwoodhotels.com          1   \n",
       "\n",
       "                                           PROD_NAME  PROD_QTY  PROD_TOTPRICE  \\\n",
       "0  FT. LAUDERDALE AIRPORT/CRUISE - CROWNE PLAZA H...        32    2847.039993   \n",
       "1      WALT DISNEY WORLD MAGIC YOUR WAY TICKETS! N/A         1    2406.939995   \n",
       "2  HYATT REGENCY MAUI RESORT  SPA FRI 11 MAR 2011...         5    2168.000000   \n",
       "3  HOTEL - THE ADDRESS DUBAI MARINA ~SAT DEC/10/2...         5    1958.699997   \n",
       "4        HOTEL-W NEW YORK - TIMES SQUARE 08/18~08/21         3    1797.000000   \n",
       "\n",
       "  REF_DOMAIN_NAME   DURATION  PAGES_VIEWED  HOUSEHOLD_SIZE  CHILDREN_D  \\\n",
       "0             NaN  23.328125            13               6           1   \n",
       "1       yahoo.com  47.109375            17               2           1   \n",
       "2      google.com  20.058594            19               1           0   \n",
       "3             NaN  47.546875            39               1           0   \n",
       "4     whotels.com  14.599609            19               1           0   \n",
       "\n",
       "   CONNECTIONSPEED_D  REF_D  \n",
       "0                  1    0.0  \n",
       "1                  1    1.0  \n",
       "2                  1    1.0  \n",
       "3                  1    0.0  \n",
       "4                  1    1.0  "
      ]
     },
     "execution_count": 8,
     "metadata": {},
     "output_type": "execute_result"
    }
   ],
   "source": [
    "hcsdata.head()"
   ]
  },
  {
   "cell_type": "markdown",
   "metadata": {},
   "source": [
    "# 1 LOG_PRICE (take the log transformation of the variable PROD_TOTPRICE )"
   ]
  },
  {
   "cell_type": "code",
   "execution_count": 9,
   "metadata": {},
   "outputs": [
    {
     "data": {
      "text/plain": [
       "0.0"
      ]
     },
     "execution_count": 9,
     "metadata": {},
     "output_type": "execute_result"
    }
   ],
   "source": [
    "hcsdata.PROD_TOTPRICE.min()"
   ]
  },
  {
   "cell_type": "code",
   "execution_count": 10,
   "metadata": {},
   "outputs": [
    {
     "name": "stderr",
     "output_type": "stream",
     "text": [
      "C:\\Users\\chike\\Anaconda3\\lib\\site-packages\\pandas\\core\\series.py:853: RuntimeWarning: divide by zero encountered in log\n",
      "  result = getattr(ufunc, method)(*inputs, **kwargs)\n"
     ]
    }
   ],
   "source": [
    "hcsdata['LOG_PRICE'] = np.log(hcsdata['PROD_TOTPRICE'])"
   ]
  },
  {
   "cell_type": "code",
   "execution_count": 11,
   "metadata": {},
   "outputs": [],
   "source": [
    "hcsdata['LOG_PRICE']=np.log1p(hcsdata.PROD_TOTPRICE)"
   ]
  },
  {
   "cell_type": "code",
   "execution_count": 12,
   "metadata": {},
   "outputs": [
    {
     "data": {
      "text/html": [
       "<div>\n",
       "<style scoped>\n",
       "    .dataframe tbody tr th:only-of-type {\n",
       "        vertical-align: middle;\n",
       "    }\n",
       "\n",
       "    .dataframe tbody tr th {\n",
       "        vertical-align: top;\n",
       "    }\n",
       "\n",
       "    .dataframe thead th {\n",
       "        text-align: right;\n",
       "    }\n",
       "</style>\n",
       "<table border=\"1\" class=\"dataframe\">\n",
       "  <thead>\n",
       "    <tr style=\"text-align: right;\">\n",
       "      <th></th>\n",
       "      <th>ID</th>\n",
       "      <th>DOMAIN_ID</th>\n",
       "      <th>MACHINE_ID</th>\n",
       "      <th>SITE_SESSION_ID</th>\n",
       "      <th>TRANS_FREQ</th>\n",
       "      <th>DOMAIN_NAME</th>\n",
       "      <th>DIRECTP_D</th>\n",
       "      <th>PROD_NAME</th>\n",
       "      <th>PROD_QTY</th>\n",
       "      <th>PROD_TOTPRICE</th>\n",
       "      <th>REF_DOMAIN_NAME</th>\n",
       "      <th>DURATION</th>\n",
       "      <th>PAGES_VIEWED</th>\n",
       "      <th>HOUSEHOLD_SIZE</th>\n",
       "      <th>CHILDREN_D</th>\n",
       "      <th>CONNECTIONSPEED_D</th>\n",
       "      <th>REF_D</th>\n",
       "      <th>LOG_PRICE</th>\n",
       "    </tr>\n",
       "  </thead>\n",
       "  <tbody>\n",
       "    <tr>\n",
       "      <td>0</td>\n",
       "      <td>1525</td>\n",
       "      <td>13877604970862366012</td>\n",
       "      <td>85643811</td>\n",
       "      <td>4447900536932</td>\n",
       "      <td>1</td>\n",
       "      <td>ichotelsgroup.com</td>\n",
       "      <td>1</td>\n",
       "      <td>FT. LAUDERDALE AIRPORT/CRUISE - CROWNE PLAZA H...</td>\n",
       "      <td>32</td>\n",
       "      <td>2847.039993</td>\n",
       "      <td>NaN</td>\n",
       "      <td>23.328125</td>\n",
       "      <td>13</td>\n",
       "      <td>6</td>\n",
       "      <td>1</td>\n",
       "      <td>1</td>\n",
       "      <td>0.0</td>\n",
       "      <td>7.954386</td>\n",
       "    </tr>\n",
       "    <tr>\n",
       "      <td>1</td>\n",
       "      <td>402</td>\n",
       "      <td>7101213156062330967</td>\n",
       "      <td>76460408</td>\n",
       "      <td>71774258860245</td>\n",
       "      <td>1</td>\n",
       "      <td>orbitz.com</td>\n",
       "      <td>0</td>\n",
       "      <td>WALT DISNEY WORLD MAGIC YOUR WAY TICKETS! N/A</td>\n",
       "      <td>1</td>\n",
       "      <td>2406.939995</td>\n",
       "      <td>yahoo.com</td>\n",
       "      <td>47.109375</td>\n",
       "      <td>17</td>\n",
       "      <td>2</td>\n",
       "      <td>1</td>\n",
       "      <td>1</td>\n",
       "      <td>1.0</td>\n",
       "      <td>7.786527</td>\n",
       "    </tr>\n",
       "    <tr>\n",
       "      <td>2</td>\n",
       "      <td>233</td>\n",
       "      <td>7772350535129410931</td>\n",
       "      <td>74286590</td>\n",
       "      <td>3825866182640</td>\n",
       "      <td>1</td>\n",
       "      <td>hyatt.com</td>\n",
       "      <td>1</td>\n",
       "      <td>HYATT REGENCY MAUI RESORT  SPA FRI 11 MAR 2011...</td>\n",
       "      <td>5</td>\n",
       "      <td>2168.000000</td>\n",
       "      <td>google.com</td>\n",
       "      <td>20.058594</td>\n",
       "      <td>19</td>\n",
       "      <td>1</td>\n",
       "      <td>0</td>\n",
       "      <td>1</td>\n",
       "      <td>1.0</td>\n",
       "      <td>7.682022</td>\n",
       "    </tr>\n",
       "    <tr>\n",
       "      <td>3</td>\n",
       "      <td>2362</td>\n",
       "      <td>9530952911301729568</td>\n",
       "      <td>90015830</td>\n",
       "      <td>70000481538306</td>\n",
       "      <td>1</td>\n",
       "      <td>expedia.com</td>\n",
       "      <td>0</td>\n",
       "      <td>HOTEL - THE ADDRESS DUBAI MARINA ~SAT DEC/10/2...</td>\n",
       "      <td>5</td>\n",
       "      <td>1958.699997</td>\n",
       "      <td>NaN</td>\n",
       "      <td>47.546875</td>\n",
       "      <td>39</td>\n",
       "      <td>1</td>\n",
       "      <td>0</td>\n",
       "      <td>1</td>\n",
       "      <td>0.0</td>\n",
       "      <td>7.580547</td>\n",
       "    </tr>\n",
       "    <tr>\n",
       "      <td>4</td>\n",
       "      <td>2738</td>\n",
       "      <td>4024709573451844450</td>\n",
       "      <td>91435029</td>\n",
       "      <td>5158448795791</td>\n",
       "      <td>2</td>\n",
       "      <td>starwoodhotels.com</td>\n",
       "      <td>1</td>\n",
       "      <td>HOTEL-W NEW YORK - TIMES SQUARE 08/18~08/21</td>\n",
       "      <td>3</td>\n",
       "      <td>1797.000000</td>\n",
       "      <td>whotels.com</td>\n",
       "      <td>14.599609</td>\n",
       "      <td>19</td>\n",
       "      <td>1</td>\n",
       "      <td>0</td>\n",
       "      <td>1</td>\n",
       "      <td>1.0</td>\n",
       "      <td>7.494430</td>\n",
       "    </tr>\n",
       "  </tbody>\n",
       "</table>\n",
       "</div>"
      ],
      "text/plain": [
       "     ID             DOMAIN_ID  MACHINE_ID  SITE_SESSION_ID  TRANS_FREQ  \\\n",
       "0  1525  13877604970862366012    85643811    4447900536932           1   \n",
       "1   402   7101213156062330967    76460408   71774258860245           1   \n",
       "2   233   7772350535129410931    74286590    3825866182640           1   \n",
       "3  2362   9530952911301729568    90015830   70000481538306           1   \n",
       "4  2738   4024709573451844450    91435029    5158448795791           2   \n",
       "\n",
       "          DOMAIN_NAME  DIRECTP_D  \\\n",
       "0   ichotelsgroup.com          1   \n",
       "1          orbitz.com          0   \n",
       "2           hyatt.com          1   \n",
       "3         expedia.com          0   \n",
       "4  starwoodhotels.com          1   \n",
       "\n",
       "                                           PROD_NAME  PROD_QTY  PROD_TOTPRICE  \\\n",
       "0  FT. LAUDERDALE AIRPORT/CRUISE - CROWNE PLAZA H...        32    2847.039993   \n",
       "1      WALT DISNEY WORLD MAGIC YOUR WAY TICKETS! N/A         1    2406.939995   \n",
       "2  HYATT REGENCY MAUI RESORT  SPA FRI 11 MAR 2011...         5    2168.000000   \n",
       "3  HOTEL - THE ADDRESS DUBAI MARINA ~SAT DEC/10/2...         5    1958.699997   \n",
       "4        HOTEL-W NEW YORK - TIMES SQUARE 08/18~08/21         3    1797.000000   \n",
       "\n",
       "  REF_DOMAIN_NAME   DURATION  PAGES_VIEWED  HOUSEHOLD_SIZE  CHILDREN_D  \\\n",
       "0             NaN  23.328125            13               6           1   \n",
       "1       yahoo.com  47.109375            17               2           1   \n",
       "2      google.com  20.058594            19               1           0   \n",
       "3             NaN  47.546875            39               1           0   \n",
       "4     whotels.com  14.599609            19               1           0   \n",
       "\n",
       "   CONNECTIONSPEED_D  REF_D  LOG_PRICE  \n",
       "0                  1    0.0   7.954386  \n",
       "1                  1    1.0   7.786527  \n",
       "2                  1    1.0   7.682022  \n",
       "3                  1    0.0   7.580547  \n",
       "4                  1    1.0   7.494430  "
      ]
     },
     "execution_count": 12,
     "metadata": {},
     "output_type": "execute_result"
    }
   ],
   "source": [
    "hcsdata.head()"
   ]
  },
  {
   "cell_type": "code",
   "execution_count": 13,
   "metadata": {},
   "outputs": [
    {
     "data": {
      "text/plain": [
       "0.0"
      ]
     },
     "execution_count": 13,
     "metadata": {},
     "output_type": "execute_result"
    }
   ],
   "source": [
    "hcsdata.PROD_TOTPRICE.min()"
   ]
  },
  {
   "cell_type": "markdown",
   "metadata": {},
   "source": [
    "# a) Please provide a summary table showing the top 10 domain names (DOMAIN_NAME) that generated the most volume of transactions the report should look like the following Table. \n",
    "* Please summarize briefly your observations from the results "
   ]
  },
  {
   "cell_type": "code",
   "execution_count": 14,
   "metadata": {},
   "outputs": [],
   "source": [
    "DomFreq=hcsdata.groupby(\"DOMAIN_NAME\").count()[['TRANS_FREQ']]"
   ]
  },
  {
   "cell_type": "code",
   "execution_count": 15,
   "metadata": {},
   "outputs": [
    {
     "data": {
      "text/html": [
       "<div>\n",
       "<style scoped>\n",
       "    .dataframe tbody tr th:only-of-type {\n",
       "        vertical-align: middle;\n",
       "    }\n",
       "\n",
       "    .dataframe tbody tr th {\n",
       "        vertical-align: top;\n",
       "    }\n",
       "\n",
       "    .dataframe thead th {\n",
       "        text-align: right;\n",
       "    }\n",
       "</style>\n",
       "<table border=\"1\" class=\"dataframe\">\n",
       "  <thead>\n",
       "    <tr style=\"text-align: right;\">\n",
       "      <th></th>\n",
       "      <th>TRANS_FREQ</th>\n",
       "    </tr>\n",
       "    <tr>\n",
       "      <th>DOMAIN_NAME</th>\n",
       "      <th></th>\n",
       "    </tr>\n",
       "  </thead>\n",
       "  <tbody>\n",
       "    <tr>\n",
       "      <td>americanexpress-travel.com</td>\n",
       "      <td>8</td>\n",
       "    </tr>\n",
       "    <tr>\n",
       "      <td>aol.com</td>\n",
       "      <td>1</td>\n",
       "    </tr>\n",
       "    <tr>\n",
       "      <td>bestwestern.com</td>\n",
       "      <td>120</td>\n",
       "    </tr>\n",
       "    <tr>\n",
       "      <td>cheaptickets.com</td>\n",
       "      <td>23</td>\n",
       "    </tr>\n",
       "    <tr>\n",
       "      <td>choicehotels.com</td>\n",
       "      <td>297</td>\n",
       "    </tr>\n",
       "  </tbody>\n",
       "</table>\n",
       "</div>"
      ],
      "text/plain": [
       "                            TRANS_FREQ\n",
       "DOMAIN_NAME                           \n",
       "americanexpress-travel.com           8\n",
       "aol.com                              1\n",
       "bestwestern.com                    120\n",
       "cheaptickets.com                    23\n",
       "choicehotels.com                   297"
      ]
     },
     "execution_count": 15,
     "metadata": {},
     "output_type": "execute_result"
    }
   ],
   "source": [
    "DomFreq.head()"
   ]
  },
  {
   "cell_type": "code",
   "execution_count": 16,
   "metadata": {},
   "outputs": [
    {
     "data": {
      "text/html": [
       "<div>\n",
       "<style scoped>\n",
       "    .dataframe tbody tr th:only-of-type {\n",
       "        vertical-align: middle;\n",
       "    }\n",
       "\n",
       "    .dataframe tbody tr th {\n",
       "        vertical-align: top;\n",
       "    }\n",
       "\n",
       "    .dataframe thead th {\n",
       "        text-align: right;\n",
       "    }\n",
       "</style>\n",
       "<table border=\"1\" class=\"dataframe\">\n",
       "  <thead>\n",
       "    <tr style=\"text-align: right;\">\n",
       "      <th></th>\n",
       "      <th>TRANS_FREQ</th>\n",
       "    </tr>\n",
       "    <tr>\n",
       "      <th>DOMAIN_NAME</th>\n",
       "      <th></th>\n",
       "    </tr>\n",
       "  </thead>\n",
       "  <tbody>\n",
       "    <tr>\n",
       "      <td>marriott.com</td>\n",
       "      <td>524</td>\n",
       "    </tr>\n",
       "    <tr>\n",
       "      <td>hilton.com</td>\n",
       "      <td>438</td>\n",
       "    </tr>\n",
       "    <tr>\n",
       "      <td>hotels.com</td>\n",
       "      <td>400</td>\n",
       "    </tr>\n",
       "    <tr>\n",
       "      <td>expedia.com</td>\n",
       "      <td>380</td>\n",
       "    </tr>\n",
       "    <tr>\n",
       "      <td>priceline.com</td>\n",
       "      <td>309</td>\n",
       "    </tr>\n",
       "    <tr>\n",
       "      <td>choicehotels.com</td>\n",
       "      <td>297</td>\n",
       "    </tr>\n",
       "    <tr>\n",
       "      <td>jetblue.com</td>\n",
       "      <td>229</td>\n",
       "    </tr>\n",
       "    <tr>\n",
       "      <td>hotwire.com</td>\n",
       "      <td>217</td>\n",
       "    </tr>\n",
       "    <tr>\n",
       "      <td>bestwestern.com</td>\n",
       "      <td>120</td>\n",
       "    </tr>\n",
       "    <tr>\n",
       "      <td>orbitz.com</td>\n",
       "      <td>109</td>\n",
       "    </tr>\n",
       "    <tr>\n",
       "      <td>travelocity.com</td>\n",
       "      <td>108</td>\n",
       "    </tr>\n",
       "    <tr>\n",
       "      <td>ichotelsgroup.com</td>\n",
       "      <td>91</td>\n",
       "    </tr>\n",
       "    <tr>\n",
       "      <td>res99.com</td>\n",
       "      <td>72</td>\n",
       "    </tr>\n",
       "    <tr>\n",
       "      <td>daysinn.com</td>\n",
       "      <td>70</td>\n",
       "    </tr>\n",
       "    <tr>\n",
       "      <td>starwoodhotels.com</td>\n",
       "      <td>55</td>\n",
       "    </tr>\n",
       "    <tr>\n",
       "      <td>super8.com</td>\n",
       "      <td>50</td>\n",
       "    </tr>\n",
       "    <tr>\n",
       "      <td>hyatt.com</td>\n",
       "      <td>49</td>\n",
       "    </tr>\n",
       "    <tr>\n",
       "      <td>travelnow.com</td>\n",
       "      <td>39</td>\n",
       "    </tr>\n",
       "    <tr>\n",
       "      <td>countryinns.com</td>\n",
       "      <td>35</td>\n",
       "    </tr>\n",
       "    <tr>\n",
       "      <td>yahoo.net</td>\n",
       "      <td>32</td>\n",
       "    </tr>\n",
       "    <tr>\n",
       "      <td>ramada.com</td>\n",
       "      <td>25</td>\n",
       "    </tr>\n",
       "    <tr>\n",
       "      <td>cheaptickets.com</td>\n",
       "      <td>23</td>\n",
       "    </tr>\n",
       "    <tr>\n",
       "      <td>radisson.com</td>\n",
       "      <td>13</td>\n",
       "    </tr>\n",
       "    <tr>\n",
       "      <td>hojo.com</td>\n",
       "      <td>11</td>\n",
       "    </tr>\n",
       "    <tr>\n",
       "      <td>wwte1.com</td>\n",
       "      <td>9</td>\n",
       "    </tr>\n",
       "    <tr>\n",
       "      <td>wyndham.com</td>\n",
       "      <td>8</td>\n",
       "    </tr>\n",
       "    <tr>\n",
       "      <td>wingatehotels.com</td>\n",
       "      <td>8</td>\n",
       "    </tr>\n",
       "    <tr>\n",
       "      <td>americanexpress-travel.com</td>\n",
       "      <td>8</td>\n",
       "    </tr>\n",
       "    <tr>\n",
       "      <td>travelodge.com</td>\n",
       "      <td>7</td>\n",
       "    </tr>\n",
       "    <tr>\n",
       "      <td>southwest.com</td>\n",
       "      <td>5</td>\n",
       "    </tr>\n",
       "    <tr>\n",
       "      <td>ritzcarlton.com</td>\n",
       "      <td>4</td>\n",
       "    </tr>\n",
       "    <tr>\n",
       "      <td>netbooker.com</td>\n",
       "      <td>3</td>\n",
       "    </tr>\n",
       "    <tr>\n",
       "      <td>aol.com</td>\n",
       "      <td>1</td>\n",
       "    </tr>\n",
       "  </tbody>\n",
       "</table>\n",
       "</div>"
      ],
      "text/plain": [
       "                            TRANS_FREQ\n",
       "DOMAIN_NAME                           \n",
       "marriott.com                       524\n",
       "hilton.com                         438\n",
       "hotels.com                         400\n",
       "expedia.com                        380\n",
       "priceline.com                      309\n",
       "choicehotels.com                   297\n",
       "jetblue.com                        229\n",
       "hotwire.com                        217\n",
       "bestwestern.com                    120\n",
       "orbitz.com                         109\n",
       "travelocity.com                    108\n",
       "ichotelsgroup.com                   91\n",
       "res99.com                           72\n",
       "daysinn.com                         70\n",
       "starwoodhotels.com                  55\n",
       "super8.com                          50\n",
       "hyatt.com                           49\n",
       "travelnow.com                       39\n",
       "countryinns.com                     35\n",
       "yahoo.net                           32\n",
       "ramada.com                          25\n",
       "cheaptickets.com                    23\n",
       "radisson.com                        13\n",
       "hojo.com                            11\n",
       "wwte1.com                            9\n",
       "wyndham.com                          8\n",
       "wingatehotels.com                    8\n",
       "americanexpress-travel.com           8\n",
       "travelodge.com                       7\n",
       "southwest.com                        5\n",
       "ritzcarlton.com                      4\n",
       "netbooker.com                        3\n",
       "aol.com                              1"
      ]
     },
     "execution_count": 16,
     "metadata": {},
     "output_type": "execute_result"
    }
   ],
   "source": [
    "DomFreq.sort_values(by='TRANS_FREQ',ascending=False)"
   ]
  },
  {
   "cell_type": "code",
   "execution_count": 17,
   "metadata": {},
   "outputs": [],
   "source": [
    "DomFreqTop10=DomFreq.nlargest(10, 'TRANS_FREQ')"
   ]
  },
  {
   "cell_type": "code",
   "execution_count": 18,
   "metadata": {},
   "outputs": [
    {
     "data": {
      "text/html": [
       "<div>\n",
       "<style scoped>\n",
       "    .dataframe tbody tr th:only-of-type {\n",
       "        vertical-align: middle;\n",
       "    }\n",
       "\n",
       "    .dataframe tbody tr th {\n",
       "        vertical-align: top;\n",
       "    }\n",
       "\n",
       "    .dataframe thead th {\n",
       "        text-align: right;\n",
       "    }\n",
       "</style>\n",
       "<table border=\"1\" class=\"dataframe\">\n",
       "  <thead>\n",
       "    <tr style=\"text-align: right;\">\n",
       "      <th></th>\n",
       "      <th>TRANS_FREQ</th>\n",
       "    </tr>\n",
       "    <tr>\n",
       "      <th>DOMAIN_NAME</th>\n",
       "      <th></th>\n",
       "    </tr>\n",
       "  </thead>\n",
       "  <tbody>\n",
       "    <tr>\n",
       "      <td>marriott.com</td>\n",
       "      <td>524</td>\n",
       "    </tr>\n",
       "    <tr>\n",
       "      <td>hilton.com</td>\n",
       "      <td>438</td>\n",
       "    </tr>\n",
       "    <tr>\n",
       "      <td>hotels.com</td>\n",
       "      <td>400</td>\n",
       "    </tr>\n",
       "    <tr>\n",
       "      <td>expedia.com</td>\n",
       "      <td>380</td>\n",
       "    </tr>\n",
       "    <tr>\n",
       "      <td>priceline.com</td>\n",
       "      <td>309</td>\n",
       "    </tr>\n",
       "  </tbody>\n",
       "</table>\n",
       "</div>"
      ],
      "text/plain": [
       "               TRANS_FREQ\n",
       "DOMAIN_NAME              \n",
       "marriott.com          524\n",
       "hilton.com            438\n",
       "hotels.com            400\n",
       "expedia.com           380\n",
       "priceline.com         309"
      ]
     },
     "execution_count": 18,
     "metadata": {},
     "output_type": "execute_result"
    }
   ],
   "source": [
    "DomFreqTop10.head() #Ran to see if we have the first 10 largest. "
   ]
  },
  {
   "cell_type": "code",
   "execution_count": 19,
   "metadata": {},
   "outputs": [],
   "source": [
    "tablerank=DomFreqTop10.assign(Rank=[1,2,3,4,5,6,7,8,9,10])\n"
   ]
  },
  {
   "cell_type": "code",
   "execution_count": 20,
   "metadata": {},
   "outputs": [
    {
     "data": {
      "text/html": [
       "<div>\n",
       "<style scoped>\n",
       "    .dataframe tbody tr th:only-of-type {\n",
       "        vertical-align: middle;\n",
       "    }\n",
       "\n",
       "    .dataframe tbody tr th {\n",
       "        vertical-align: top;\n",
       "    }\n",
       "\n",
       "    .dataframe thead th {\n",
       "        text-align: right;\n",
       "    }\n",
       "</style>\n",
       "<table border=\"1\" class=\"dataframe\">\n",
       "  <thead>\n",
       "    <tr style=\"text-align: right;\">\n",
       "      <th></th>\n",
       "      <th>TRANS_FREQ</th>\n",
       "      <th>Rank</th>\n",
       "    </tr>\n",
       "    <tr>\n",
       "      <th>DOMAIN_NAME</th>\n",
       "      <th></th>\n",
       "      <th></th>\n",
       "    </tr>\n",
       "  </thead>\n",
       "  <tbody>\n",
       "    <tr>\n",
       "      <td>marriott.com</td>\n",
       "      <td>524</td>\n",
       "      <td>1</td>\n",
       "    </tr>\n",
       "    <tr>\n",
       "      <td>hilton.com</td>\n",
       "      <td>438</td>\n",
       "      <td>2</td>\n",
       "    </tr>\n",
       "    <tr>\n",
       "      <td>hotels.com</td>\n",
       "      <td>400</td>\n",
       "      <td>3</td>\n",
       "    </tr>\n",
       "    <tr>\n",
       "      <td>expedia.com</td>\n",
       "      <td>380</td>\n",
       "      <td>4</td>\n",
       "    </tr>\n",
       "    <tr>\n",
       "      <td>priceline.com</td>\n",
       "      <td>309</td>\n",
       "      <td>5</td>\n",
       "    </tr>\n",
       "    <tr>\n",
       "      <td>choicehotels.com</td>\n",
       "      <td>297</td>\n",
       "      <td>6</td>\n",
       "    </tr>\n",
       "    <tr>\n",
       "      <td>jetblue.com</td>\n",
       "      <td>229</td>\n",
       "      <td>7</td>\n",
       "    </tr>\n",
       "    <tr>\n",
       "      <td>hotwire.com</td>\n",
       "      <td>217</td>\n",
       "      <td>8</td>\n",
       "    </tr>\n",
       "    <tr>\n",
       "      <td>bestwestern.com</td>\n",
       "      <td>120</td>\n",
       "      <td>9</td>\n",
       "    </tr>\n",
       "    <tr>\n",
       "      <td>orbitz.com</td>\n",
       "      <td>109</td>\n",
       "      <td>10</td>\n",
       "    </tr>\n",
       "  </tbody>\n",
       "</table>\n",
       "</div>"
      ],
      "text/plain": [
       "                  TRANS_FREQ  Rank\n",
       "DOMAIN_NAME                       \n",
       "marriott.com             524     1\n",
       "hilton.com               438     2\n",
       "hotels.com               400     3\n",
       "expedia.com              380     4\n",
       "priceline.com            309     5\n",
       "choicehotels.com         297     6\n",
       "jetblue.com              229     7\n",
       "hotwire.com              217     8\n",
       "bestwestern.com          120     9\n",
       "orbitz.com               109    10"
      ]
     },
     "execution_count": 20,
     "metadata": {},
     "output_type": "execute_result"
    }
   ],
   "source": [
    "tablerank.head(10)"
   ]
  },
  {
   "cell_type": "markdown",
   "metadata": {},
   "source": [
    "# b) Please provide a summary table showing the top 10 reference domain names (REF_DOMAIN_NAME) that generated the most volume of transactions"
   ]
  },
  {
   "cell_type": "code",
   "execution_count": 21,
   "metadata": {},
   "outputs": [],
   "source": [
    "reftable=  hcsdata.groupby(\"REF_DOMAIN_NAME\").count()[['TRANS_FREQ']]"
   ]
  },
  {
   "cell_type": "code",
   "execution_count": 22,
   "metadata": {},
   "outputs": [
    {
     "name": "stdout",
     "output_type": "stream",
     "text": [
      "                       TRANS_FREQ\n",
      "REF_DOMAIN_NAME                  \n",
      "2mdn.net                        1\n",
      "60searchengines.com             1\n",
      "aaa.com                         9\n",
      "aaasouth.com                    2\n",
      "aaawa.com                       1\n",
      "...                           ...\n",
      "wyndham.com                     2\n",
      "wyndhamhoteltampa.com           1\n",
      "yahoo.com                     222\n",
      "yahoo.net                      15\n",
      "ycheckrates.com                 1\n",
      "\n",
      "[229 rows x 1 columns]\n"
     ]
    }
   ],
   "source": [
    "print (reftable)"
   ]
  },
  {
   "cell_type": "code",
   "execution_count": 23,
   "metadata": {},
   "outputs": [],
   "source": [
    "top10ref = reftable.sort_values('TRANS_FREQ',axis=0,ascending=False,inplace=False,kind='quicksort',na_position='last').head(10)\n"
   ]
  },
  {
   "cell_type": "code",
   "execution_count": 24,
   "metadata": {},
   "outputs": [
    {
     "data": {
      "text/html": [
       "<div>\n",
       "<style scoped>\n",
       "    .dataframe tbody tr th:only-of-type {\n",
       "        vertical-align: middle;\n",
       "    }\n",
       "\n",
       "    .dataframe tbody tr th {\n",
       "        vertical-align: top;\n",
       "    }\n",
       "\n",
       "    .dataframe thead th {\n",
       "        text-align: right;\n",
       "    }\n",
       "</style>\n",
       "<table border=\"1\" class=\"dataframe\">\n",
       "  <thead>\n",
       "    <tr style=\"text-align: right;\">\n",
       "      <th></th>\n",
       "      <th>TRANS_FREQ</th>\n",
       "    </tr>\n",
       "    <tr>\n",
       "      <th>REF_DOMAIN_NAME</th>\n",
       "      <th></th>\n",
       "    </tr>\n",
       "  </thead>\n",
       "  <tbody>\n",
       "    <tr>\n",
       "      <td>google.com</td>\n",
       "      <td>620</td>\n",
       "    </tr>\n",
       "    <tr>\n",
       "      <td>yahoo.com</td>\n",
       "      <td>222</td>\n",
       "    </tr>\n",
       "    <tr>\n",
       "      <td>bing.com</td>\n",
       "      <td>129</td>\n",
       "    </tr>\n",
       "    <tr>\n",
       "      <td>aol.com</td>\n",
       "      <td>53</td>\n",
       "    </tr>\n",
       "    <tr>\n",
       "      <td>comfortinn.com</td>\n",
       "      <td>48</td>\n",
       "    </tr>\n",
       "    <tr>\n",
       "      <td>jetblue.com</td>\n",
       "      <td>43</td>\n",
       "    </tr>\n",
       "    <tr>\n",
       "      <td>qualityinn.com</td>\n",
       "      <td>29</td>\n",
       "    </tr>\n",
       "    <tr>\n",
       "      <td>comfortsuites.com</td>\n",
       "      <td>22</td>\n",
       "    </tr>\n",
       "    <tr>\n",
       "      <td>kayak.com</td>\n",
       "      <td>20</td>\n",
       "    </tr>\n",
       "    <tr>\n",
       "      <td>mywebsearch.com</td>\n",
       "      <td>17</td>\n",
       "    </tr>\n",
       "  </tbody>\n",
       "</table>\n",
       "</div>"
      ],
      "text/plain": [
       "                   TRANS_FREQ\n",
       "REF_DOMAIN_NAME              \n",
       "google.com                620\n",
       "yahoo.com                 222\n",
       "bing.com                  129\n",
       "aol.com                    53\n",
       "comfortinn.com             48\n",
       "jetblue.com                43\n",
       "qualityinn.com             29\n",
       "comfortsuites.com          22\n",
       "kayak.com                  20\n",
       "mywebsearch.com            17"
      ]
     },
     "execution_count": 24,
     "metadata": {},
     "output_type": "execute_result"
    }
   ],
   "source": [
    "top10ref.head(10)"
   ]
  },
  {
   "cell_type": "code",
   "execution_count": 25,
   "metadata": {},
   "outputs": [],
   "source": [
    "tablerankref=top10ref.assign(Rank=[1,2,3,4,5,6,7,8,9,10])\n"
   ]
  },
  {
   "cell_type": "code",
   "execution_count": 26,
   "metadata": {},
   "outputs": [
    {
     "data": {
      "text/html": [
       "<div>\n",
       "<style scoped>\n",
       "    .dataframe tbody tr th:only-of-type {\n",
       "        vertical-align: middle;\n",
       "    }\n",
       "\n",
       "    .dataframe tbody tr th {\n",
       "        vertical-align: top;\n",
       "    }\n",
       "\n",
       "    .dataframe thead th {\n",
       "        text-align: right;\n",
       "    }\n",
       "</style>\n",
       "<table border=\"1\" class=\"dataframe\">\n",
       "  <thead>\n",
       "    <tr style=\"text-align: right;\">\n",
       "      <th></th>\n",
       "      <th>TRANS_FREQ</th>\n",
       "      <th>Rank</th>\n",
       "    </tr>\n",
       "    <tr>\n",
       "      <th>REF_DOMAIN_NAME</th>\n",
       "      <th></th>\n",
       "      <th></th>\n",
       "    </tr>\n",
       "  </thead>\n",
       "  <tbody>\n",
       "    <tr>\n",
       "      <td>google.com</td>\n",
       "      <td>620</td>\n",
       "      <td>1</td>\n",
       "    </tr>\n",
       "    <tr>\n",
       "      <td>yahoo.com</td>\n",
       "      <td>222</td>\n",
       "      <td>2</td>\n",
       "    </tr>\n",
       "    <tr>\n",
       "      <td>bing.com</td>\n",
       "      <td>129</td>\n",
       "      <td>3</td>\n",
       "    </tr>\n",
       "    <tr>\n",
       "      <td>aol.com</td>\n",
       "      <td>53</td>\n",
       "      <td>4</td>\n",
       "    </tr>\n",
       "    <tr>\n",
       "      <td>comfortinn.com</td>\n",
       "      <td>48</td>\n",
       "      <td>5</td>\n",
       "    </tr>\n",
       "    <tr>\n",
       "      <td>jetblue.com</td>\n",
       "      <td>43</td>\n",
       "      <td>6</td>\n",
       "    </tr>\n",
       "    <tr>\n",
       "      <td>qualityinn.com</td>\n",
       "      <td>29</td>\n",
       "      <td>7</td>\n",
       "    </tr>\n",
       "    <tr>\n",
       "      <td>comfortsuites.com</td>\n",
       "      <td>22</td>\n",
       "      <td>8</td>\n",
       "    </tr>\n",
       "    <tr>\n",
       "      <td>kayak.com</td>\n",
       "      <td>20</td>\n",
       "      <td>9</td>\n",
       "    </tr>\n",
       "    <tr>\n",
       "      <td>mywebsearch.com</td>\n",
       "      <td>17</td>\n",
       "      <td>10</td>\n",
       "    </tr>\n",
       "  </tbody>\n",
       "</table>\n",
       "</div>"
      ],
      "text/plain": [
       "                   TRANS_FREQ  Rank\n",
       "REF_DOMAIN_NAME                    \n",
       "google.com                620     1\n",
       "yahoo.com                 222     2\n",
       "bing.com                  129     3\n",
       "aol.com                    53     4\n",
       "comfortinn.com             48     5\n",
       "jetblue.com                43     6\n",
       "qualityinn.com             29     7\n",
       "comfortsuites.com          22     8\n",
       "kayak.com                  20     9\n",
       "mywebsearch.com            17    10"
      ]
     },
     "execution_count": 26,
     "metadata": {},
     "output_type": "execute_result"
    }
   ],
   "source": [
    "tablerankref.head(10)"
   ]
  },
  {
   "cell_type": "markdown",
   "metadata": {},
   "source": [
    "# c)  Please provide summary statistics (N, Max, Min, Mean, and Std.) \n",
    "- for variables: DIRECTP_D; REF_D; DURATION; PAGES_VIEWED; LOG_PRICE; and TRANS_FREQ. Please report your summary statistics table."
   ]
  },
  {
   "cell_type": "code",
   "execution_count": 27,
   "metadata": {},
   "outputs": [
    {
     "data": {
      "text/html": [
       "<div>\n",
       "<style scoped>\n",
       "    .dataframe tbody tr th:only-of-type {\n",
       "        vertical-align: middle;\n",
       "    }\n",
       "\n",
       "    .dataframe tbody tr th {\n",
       "        vertical-align: top;\n",
       "    }\n",
       "\n",
       "    .dataframe thead th {\n",
       "        text-align: right;\n",
       "    }\n",
       "</style>\n",
       "<table border=\"1\" class=\"dataframe\">\n",
       "  <thead>\n",
       "    <tr style=\"text-align: right;\">\n",
       "      <th></th>\n",
       "      <th>DIRECTP_D</th>\n",
       "      <th>REF_D</th>\n",
       "      <th>DURATION</th>\n",
       "      <th>PAGES_VIEWED</th>\n",
       "      <th>LOG_PRICE</th>\n",
       "      <th>TRANS_FREQ</th>\n",
       "    </tr>\n",
       "  </thead>\n",
       "  <tbody>\n",
       "    <tr>\n",
       "      <td>count</td>\n",
       "      <td>3749.000000</td>\n",
       "      <td>3749.000000</td>\n",
       "      <td>3749.000000</td>\n",
       "      <td>3749.000000</td>\n",
       "      <td>3749.000000</td>\n",
       "      <td>3749.000000</td>\n",
       "    </tr>\n",
       "    <tr>\n",
       "      <td>mean</td>\n",
       "      <td>0.481462</td>\n",
       "      <td>0.449987</td>\n",
       "      <td>25.317508</td>\n",
       "      <td>18.331288</td>\n",
       "      <td>4.439926</td>\n",
       "      <td>2.981328</td>\n",
       "    </tr>\n",
       "    <tr>\n",
       "      <td>std</td>\n",
       "      <td>0.499723</td>\n",
       "      <td>0.497559</td>\n",
       "      <td>22.806497</td>\n",
       "      <td>16.636523</td>\n",
       "      <td>1.615478</td>\n",
       "      <td>4.120927</td>\n",
       "    </tr>\n",
       "    <tr>\n",
       "      <td>min</td>\n",
       "      <td>0.000000</td>\n",
       "      <td>0.000000</td>\n",
       "      <td>0.029999</td>\n",
       "      <td>1.000000</td>\n",
       "      <td>0.000000</td>\n",
       "      <td>1.000000</td>\n",
       "    </tr>\n",
       "    <tr>\n",
       "      <td>25%</td>\n",
       "      <td>0.000000</td>\n",
       "      <td>0.000000</td>\n",
       "      <td>9.449219</td>\n",
       "      <td>8.000000</td>\n",
       "      <td>4.289774</td>\n",
       "      <td>1.000000</td>\n",
       "    </tr>\n",
       "    <tr>\n",
       "      <td>50%</td>\n",
       "      <td>0.000000</td>\n",
       "      <td>0.000000</td>\n",
       "      <td>17.777344</td>\n",
       "      <td>13.000000</td>\n",
       "      <td>4.762088</td>\n",
       "      <td>2.000000</td>\n",
       "    </tr>\n",
       "    <tr>\n",
       "      <td>75%</td>\n",
       "      <td>1.000000</td>\n",
       "      <td>1.000000</td>\n",
       "      <td>33.656250</td>\n",
       "      <td>23.000000</td>\n",
       "      <td>5.303205</td>\n",
       "      <td>3.000000</td>\n",
       "    </tr>\n",
       "    <tr>\n",
       "      <td>max</td>\n",
       "      <td>1.000000</td>\n",
       "      <td>1.000000</td>\n",
       "      <td>227.343750</td>\n",
       "      <td>141.000000</td>\n",
       "      <td>7.954386</td>\n",
       "      <td>30.000000</td>\n",
       "    </tr>\n",
       "  </tbody>\n",
       "</table>\n",
       "</div>"
      ],
      "text/plain": [
       "         DIRECTP_D        REF_D     DURATION  PAGES_VIEWED    LOG_PRICE  \\\n",
       "count  3749.000000  3749.000000  3749.000000   3749.000000  3749.000000   \n",
       "mean      0.481462     0.449987    25.317508     18.331288     4.439926   \n",
       "std       0.499723     0.497559    22.806497     16.636523     1.615478   \n",
       "min       0.000000     0.000000     0.029999      1.000000     0.000000   \n",
       "25%       0.000000     0.000000     9.449219      8.000000     4.289774   \n",
       "50%       0.000000     0.000000    17.777344     13.000000     4.762088   \n",
       "75%       1.000000     1.000000    33.656250     23.000000     5.303205   \n",
       "max       1.000000     1.000000   227.343750    141.000000     7.954386   \n",
       "\n",
       "        TRANS_FREQ  \n",
       "count  3749.000000  \n",
       "mean      2.981328  \n",
       "std       4.120927  \n",
       "min       1.000000  \n",
       "25%       1.000000  \n",
       "50%       2.000000  \n",
       "75%       3.000000  \n",
       "max      30.000000  "
      ]
     },
     "execution_count": 27,
     "metadata": {},
     "output_type": "execute_result"
    }
   ],
   "source": [
    "hcsdata[['DIRECTP_D', 'REF_D', 'DURATION','PAGES_VIEWED', 'LOG_PRICE','TRANS_FREQ']].describe()"
   ]
  },
  {
   "cell_type": "markdown",
   "metadata": {},
   "source": [
    "# Other Methods of Providing Descriptive Statistics"
   ]
  },
  {
   "cell_type": "code",
   "execution_count": 28,
   "metadata": {},
   "outputs": [
    {
     "data": {
      "text/html": [
       "<div>\n",
       "<style scoped>\n",
       "    .dataframe tbody tr th:only-of-type {\n",
       "        vertical-align: middle;\n",
       "    }\n",
       "\n",
       "    .dataframe tbody tr th {\n",
       "        vertical-align: top;\n",
       "    }\n",
       "\n",
       "    .dataframe thead th {\n",
       "        text-align: right;\n",
       "    }\n",
       "</style>\n",
       "<table border=\"1\" class=\"dataframe\">\n",
       "  <thead>\n",
       "    <tr style=\"text-align: right;\">\n",
       "      <th></th>\n",
       "      <th>DOMAIN_NAME</th>\n",
       "      <th>PROD_NAME</th>\n",
       "      <th>REF_DOMAIN_NAME</th>\n",
       "    </tr>\n",
       "  </thead>\n",
       "  <tbody>\n",
       "    <tr>\n",
       "      <td>count</td>\n",
       "      <td>3749</td>\n",
       "      <td>3749</td>\n",
       "      <td>1687</td>\n",
       "    </tr>\n",
       "    <tr>\n",
       "      <td>unique</td>\n",
       "      <td>33</td>\n",
       "      <td>3570</td>\n",
       "      <td>229</td>\n",
       "    </tr>\n",
       "    <tr>\n",
       "      <td>top</td>\n",
       "      <td>marriott.com</td>\n",
       "      <td>N/A ~</td>\n",
       "      <td>google.com</td>\n",
       "    </tr>\n",
       "    <tr>\n",
       "      <td>freq</td>\n",
       "      <td>524</td>\n",
       "      <td>86</td>\n",
       "      <td>620</td>\n",
       "    </tr>\n",
       "  </tbody>\n",
       "</table>\n",
       "</div>"
      ],
      "text/plain": [
       "         DOMAIN_NAME PROD_NAME REF_DOMAIN_NAME\n",
       "count           3749      3749            1687\n",
       "unique            33      3570             229\n",
       "top     marriott.com     N/A ~      google.com\n",
       "freq             524        86             620"
      ]
     },
     "execution_count": 28,
     "metadata": {},
     "output_type": "execute_result"
    }
   ],
   "source": [
    "hcsdata.describe(include=['object'])"
   ]
  },
  {
   "cell_type": "code",
   "execution_count": 29,
   "metadata": {},
   "outputs": [
    {
     "data": {
      "text/html": [
       "<div>\n",
       "<style scoped>\n",
       "    .dataframe tbody tr th:only-of-type {\n",
       "        vertical-align: middle;\n",
       "    }\n",
       "\n",
       "    .dataframe tbody tr th {\n",
       "        vertical-align: top;\n",
       "    }\n",
       "\n",
       "    .dataframe thead th {\n",
       "        text-align: right;\n",
       "    }\n",
       "</style>\n",
       "<table border=\"1\" class=\"dataframe\">\n",
       "  <thead>\n",
       "    <tr style=\"text-align: right;\">\n",
       "      <th></th>\n",
       "      <th>ID</th>\n",
       "      <th>DOMAIN_ID</th>\n",
       "      <th>MACHINE_ID</th>\n",
       "      <th>SITE_SESSION_ID</th>\n",
       "      <th>TRANS_FREQ</th>\n",
       "      <th>DOMAIN_NAME</th>\n",
       "      <th>DIRECTP_D</th>\n",
       "      <th>PROD_NAME</th>\n",
       "      <th>PROD_QTY</th>\n",
       "      <th>PROD_TOTPRICE</th>\n",
       "      <th>REF_DOMAIN_NAME</th>\n",
       "      <th>DURATION</th>\n",
       "      <th>PAGES_VIEWED</th>\n",
       "      <th>HOUSEHOLD_SIZE</th>\n",
       "      <th>CHILDREN_D</th>\n",
       "      <th>CONNECTIONSPEED_D</th>\n",
       "      <th>REF_D</th>\n",
       "      <th>LOG_PRICE</th>\n",
       "    </tr>\n",
       "  </thead>\n",
       "  <tbody>\n",
       "    <tr>\n",
       "      <td>count</td>\n",
       "      <td>3749.000000</td>\n",
       "      <td>3.749000e+03</td>\n",
       "      <td>3.749000e+03</td>\n",
       "      <td>3.749000e+03</td>\n",
       "      <td>3749.000000</td>\n",
       "      <td>3749</td>\n",
       "      <td>3749.000000</td>\n",
       "      <td>3749</td>\n",
       "      <td>3749.000000</td>\n",
       "      <td>3749.000000</td>\n",
       "      <td>1687</td>\n",
       "      <td>3749.000000</td>\n",
       "      <td>3749.000000</td>\n",
       "      <td>3749.000000</td>\n",
       "      <td>3749.000000</td>\n",
       "      <td>3749.000000</td>\n",
       "      <td>3749.000000</td>\n",
       "      <td>3749.000000</td>\n",
       "    </tr>\n",
       "    <tr>\n",
       "      <td>unique</td>\n",
       "      <td>NaN</td>\n",
       "      <td>NaN</td>\n",
       "      <td>NaN</td>\n",
       "      <td>NaN</td>\n",
       "      <td>NaN</td>\n",
       "      <td>33</td>\n",
       "      <td>NaN</td>\n",
       "      <td>3570</td>\n",
       "      <td>NaN</td>\n",
       "      <td>NaN</td>\n",
       "      <td>229</td>\n",
       "      <td>NaN</td>\n",
       "      <td>NaN</td>\n",
       "      <td>NaN</td>\n",
       "      <td>NaN</td>\n",
       "      <td>NaN</td>\n",
       "      <td>NaN</td>\n",
       "      <td>NaN</td>\n",
       "    </tr>\n",
       "    <tr>\n",
       "      <td>top</td>\n",
       "      <td>NaN</td>\n",
       "      <td>NaN</td>\n",
       "      <td>NaN</td>\n",
       "      <td>NaN</td>\n",
       "      <td>NaN</td>\n",
       "      <td>marriott.com</td>\n",
       "      <td>NaN</td>\n",
       "      <td>N/A ~</td>\n",
       "      <td>NaN</td>\n",
       "      <td>NaN</td>\n",
       "      <td>google.com</td>\n",
       "      <td>NaN</td>\n",
       "      <td>NaN</td>\n",
       "      <td>NaN</td>\n",
       "      <td>NaN</td>\n",
       "      <td>NaN</td>\n",
       "      <td>NaN</td>\n",
       "      <td>NaN</td>\n",
       "    </tr>\n",
       "    <tr>\n",
       "      <td>freq</td>\n",
       "      <td>NaN</td>\n",
       "      <td>NaN</td>\n",
       "      <td>NaN</td>\n",
       "      <td>NaN</td>\n",
       "      <td>NaN</td>\n",
       "      <td>524</td>\n",
       "      <td>NaN</td>\n",
       "      <td>86</td>\n",
       "      <td>NaN</td>\n",
       "      <td>NaN</td>\n",
       "      <td>620</td>\n",
       "      <td>NaN</td>\n",
       "      <td>NaN</td>\n",
       "      <td>NaN</td>\n",
       "      <td>NaN</td>\n",
       "      <td>NaN</td>\n",
       "      <td>NaN</td>\n",
       "      <td>NaN</td>\n",
       "    </tr>\n",
       "    <tr>\n",
       "      <td>mean</td>\n",
       "      <td>1877.293678</td>\n",
       "      <td>8.436032e+18</td>\n",
       "      <td>8.615370e+07</td>\n",
       "      <td>1.976820e+13</td>\n",
       "      <td>2.981328</td>\n",
       "      <td>NaN</td>\n",
       "      <td>0.481462</td>\n",
       "      <td>NaN</td>\n",
       "      <td>1.717258</td>\n",
       "      <td>163.859624</td>\n",
       "      <td>NaN</td>\n",
       "      <td>25.317508</td>\n",
       "      <td>18.331288</td>\n",
       "      <td>3.273940</td>\n",
       "      <td>0.603894</td>\n",
       "      <td>0.992265</td>\n",
       "      <td>0.449987</td>\n",
       "      <td>4.439926</td>\n",
       "    </tr>\n",
       "    <tr>\n",
       "      <td>std</td>\n",
       "      <td>1083.651205</td>\n",
       "      <td>4.548078e+18</td>\n",
       "      <td>6.798597e+06</td>\n",
       "      <td>2.750259e+13</td>\n",
       "      <td>4.120927</td>\n",
       "      <td>NaN</td>\n",
       "      <td>0.499723</td>\n",
       "      <td>NaN</td>\n",
       "      <td>1.387385</td>\n",
       "      <td>184.484515</td>\n",
       "      <td>NaN</td>\n",
       "      <td>22.806497</td>\n",
       "      <td>16.636523</td>\n",
       "      <td>4.388536</td>\n",
       "      <td>0.489152</td>\n",
       "      <td>0.087622</td>\n",
       "      <td>0.497559</td>\n",
       "      <td>1.615478</td>\n",
       "    </tr>\n",
       "    <tr>\n",
       "      <td>min</td>\n",
       "      <td>1.000000</td>\n",
       "      <td>8.614049e+17</td>\n",
       "      <td>1.764018e+07</td>\n",
       "      <td>3.170357e+12</td>\n",
       "      <td>1.000000</td>\n",
       "      <td>NaN</td>\n",
       "      <td>0.000000</td>\n",
       "      <td>NaN</td>\n",
       "      <td>0.000000</td>\n",
       "      <td>0.000000</td>\n",
       "      <td>NaN</td>\n",
       "      <td>0.029999</td>\n",
       "      <td>1.000000</td>\n",
       "      <td>1.000000</td>\n",
       "      <td>0.000000</td>\n",
       "      <td>0.000000</td>\n",
       "      <td>0.000000</td>\n",
       "      <td>0.000000</td>\n",
       "    </tr>\n",
       "    <tr>\n",
       "      <td>25%</td>\n",
       "      <td>939.000000</td>\n",
       "      <td>5.078454e+18</td>\n",
       "      <td>8.197324e+07</td>\n",
       "      <td>4.404378e+12</td>\n",
       "      <td>1.000000</td>\n",
       "      <td>NaN</td>\n",
       "      <td>0.000000</td>\n",
       "      <td>NaN</td>\n",
       "      <td>1.000000</td>\n",
       "      <td>71.950000</td>\n",
       "      <td>NaN</td>\n",
       "      <td>9.449219</td>\n",
       "      <td>8.000000</td>\n",
       "      <td>2.000000</td>\n",
       "      <td>0.000000</td>\n",
       "      <td>1.000000</td>\n",
       "      <td>0.000000</td>\n",
       "      <td>4.289774</td>\n",
       "    </tr>\n",
       "    <tr>\n",
       "      <td>50%</td>\n",
       "      <td>1878.000000</td>\n",
       "      <td>7.317461e+18</td>\n",
       "      <td>8.698025e+07</td>\n",
       "      <td>5.037588e+12</td>\n",
       "      <td>2.000000</td>\n",
       "      <td>NaN</td>\n",
       "      <td>0.000000</td>\n",
       "      <td>NaN</td>\n",
       "      <td>1.000000</td>\n",
       "      <td>115.990000</td>\n",
       "      <td>NaN</td>\n",
       "      <td>17.777344</td>\n",
       "      <td>13.000000</td>\n",
       "      <td>3.000000</td>\n",
       "      <td>1.000000</td>\n",
       "      <td>1.000000</td>\n",
       "      <td>0.000000</td>\n",
       "      <td>4.762088</td>\n",
       "    </tr>\n",
       "    <tr>\n",
       "      <td>75%</td>\n",
       "      <td>2815.000000</td>\n",
       "      <td>9.530953e+18</td>\n",
       "      <td>9.165384e+07</td>\n",
       "      <td>6.535772e+12</td>\n",
       "      <td>3.000000</td>\n",
       "      <td>NaN</td>\n",
       "      <td>1.000000</td>\n",
       "      <td>NaN</td>\n",
       "      <td>2.000000</td>\n",
       "      <td>199.980000</td>\n",
       "      <td>NaN</td>\n",
       "      <td>33.656250</td>\n",
       "      <td>23.000000</td>\n",
       "      <td>4.000000</td>\n",
       "      <td>1.000000</td>\n",
       "      <td>1.000000</td>\n",
       "      <td>1.000000</td>\n",
       "      <td>5.303205</td>\n",
       "    </tr>\n",
       "    <tr>\n",
       "      <td>max</td>\n",
       "      <td>3753.000000</td>\n",
       "      <td>1.747520e+19</td>\n",
       "      <td>9.532007e+07</td>\n",
       "      <td>7.441268e+13</td>\n",
       "      <td>30.000000</td>\n",
       "      <td>NaN</td>\n",
       "      <td>1.000000</td>\n",
       "      <td>NaN</td>\n",
       "      <td>32.000000</td>\n",
       "      <td>2847.039993</td>\n",
       "      <td>NaN</td>\n",
       "      <td>227.343750</td>\n",
       "      <td>141.000000</td>\n",
       "      <td>99.000000</td>\n",
       "      <td>1.000000</td>\n",
       "      <td>1.000000</td>\n",
       "      <td>1.000000</td>\n",
       "      <td>7.954386</td>\n",
       "    </tr>\n",
       "  </tbody>\n",
       "</table>\n",
       "</div>"
      ],
      "text/plain": [
       "                 ID     DOMAIN_ID    MACHINE_ID  SITE_SESSION_ID   TRANS_FREQ  \\\n",
       "count   3749.000000  3.749000e+03  3.749000e+03     3.749000e+03  3749.000000   \n",
       "unique          NaN           NaN           NaN              NaN          NaN   \n",
       "top             NaN           NaN           NaN              NaN          NaN   \n",
       "freq            NaN           NaN           NaN              NaN          NaN   \n",
       "mean    1877.293678  8.436032e+18  8.615370e+07     1.976820e+13     2.981328   \n",
       "std     1083.651205  4.548078e+18  6.798597e+06     2.750259e+13     4.120927   \n",
       "min        1.000000  8.614049e+17  1.764018e+07     3.170357e+12     1.000000   \n",
       "25%      939.000000  5.078454e+18  8.197324e+07     4.404378e+12     1.000000   \n",
       "50%     1878.000000  7.317461e+18  8.698025e+07     5.037588e+12     2.000000   \n",
       "75%     2815.000000  9.530953e+18  9.165384e+07     6.535772e+12     3.000000   \n",
       "max     3753.000000  1.747520e+19  9.532007e+07     7.441268e+13    30.000000   \n",
       "\n",
       "         DOMAIN_NAME    DIRECTP_D PROD_NAME     PROD_QTY  PROD_TOTPRICE  \\\n",
       "count           3749  3749.000000      3749  3749.000000    3749.000000   \n",
       "unique            33          NaN      3570          NaN            NaN   \n",
       "top     marriott.com          NaN     N/A ~          NaN            NaN   \n",
       "freq             524          NaN        86          NaN            NaN   \n",
       "mean             NaN     0.481462       NaN     1.717258     163.859624   \n",
       "std              NaN     0.499723       NaN     1.387385     184.484515   \n",
       "min              NaN     0.000000       NaN     0.000000       0.000000   \n",
       "25%              NaN     0.000000       NaN     1.000000      71.950000   \n",
       "50%              NaN     0.000000       NaN     1.000000     115.990000   \n",
       "75%              NaN     1.000000       NaN     2.000000     199.980000   \n",
       "max              NaN     1.000000       NaN    32.000000    2847.039993   \n",
       "\n",
       "       REF_DOMAIN_NAME     DURATION  PAGES_VIEWED  HOUSEHOLD_SIZE  \\\n",
       "count             1687  3749.000000   3749.000000     3749.000000   \n",
       "unique             229          NaN           NaN             NaN   \n",
       "top         google.com          NaN           NaN             NaN   \n",
       "freq               620          NaN           NaN             NaN   \n",
       "mean               NaN    25.317508     18.331288        3.273940   \n",
       "std                NaN    22.806497     16.636523        4.388536   \n",
       "min                NaN     0.029999      1.000000        1.000000   \n",
       "25%                NaN     9.449219      8.000000        2.000000   \n",
       "50%                NaN    17.777344     13.000000        3.000000   \n",
       "75%                NaN    33.656250     23.000000        4.000000   \n",
       "max                NaN   227.343750    141.000000       99.000000   \n",
       "\n",
       "         CHILDREN_D  CONNECTIONSPEED_D        REF_D    LOG_PRICE  \n",
       "count   3749.000000        3749.000000  3749.000000  3749.000000  \n",
       "unique          NaN                NaN          NaN          NaN  \n",
       "top             NaN                NaN          NaN          NaN  \n",
       "freq            NaN                NaN          NaN          NaN  \n",
       "mean       0.603894           0.992265     0.449987     4.439926  \n",
       "std        0.489152           0.087622     0.497559     1.615478  \n",
       "min        0.000000           0.000000     0.000000     0.000000  \n",
       "25%        0.000000           1.000000     0.000000     4.289774  \n",
       "50%        1.000000           1.000000     0.000000     4.762088  \n",
       "75%        1.000000           1.000000     1.000000     5.303205  \n",
       "max        1.000000           1.000000     1.000000     7.954386  "
      ]
     },
     "execution_count": 29,
     "metadata": {},
     "output_type": "execute_result"
    }
   ],
   "source": [
    "hcsdata.describe(include='all')"
   ]
  },
  {
   "cell_type": "code",
   "execution_count": 30,
   "metadata": {},
   "outputs": [
    {
     "data": {
      "text/html": [
       "<div>\n",
       "<style scoped>\n",
       "    .dataframe tbody tr th:only-of-type {\n",
       "        vertical-align: middle;\n",
       "    }\n",
       "\n",
       "    .dataframe tbody tr th {\n",
       "        vertical-align: top;\n",
       "    }\n",
       "\n",
       "    .dataframe thead th {\n",
       "        text-align: right;\n",
       "    }\n",
       "</style>\n",
       "<table border=\"1\" class=\"dataframe\">\n",
       "  <thead>\n",
       "    <tr style=\"text-align: right;\">\n",
       "      <th></th>\n",
       "      <th>DIRECTP_D</th>\n",
       "    </tr>\n",
       "  </thead>\n",
       "  <tbody>\n",
       "    <tr>\n",
       "      <td>count</td>\n",
       "      <td>3749.000000</td>\n",
       "    </tr>\n",
       "    <tr>\n",
       "      <td>mean</td>\n",
       "      <td>0.481462</td>\n",
       "    </tr>\n",
       "    <tr>\n",
       "      <td>std</td>\n",
       "      <td>0.499723</td>\n",
       "    </tr>\n",
       "    <tr>\n",
       "      <td>min</td>\n",
       "      <td>0.000000</td>\n",
       "    </tr>\n",
       "    <tr>\n",
       "      <td>25%</td>\n",
       "      <td>0.000000</td>\n",
       "    </tr>\n",
       "    <tr>\n",
       "      <td>50%</td>\n",
       "      <td>0.000000</td>\n",
       "    </tr>\n",
       "    <tr>\n",
       "      <td>75%</td>\n",
       "      <td>1.000000</td>\n",
       "    </tr>\n",
       "    <tr>\n",
       "      <td>max</td>\n",
       "      <td>1.000000</td>\n",
       "    </tr>\n",
       "  </tbody>\n",
       "</table>\n",
       "</div>"
      ],
      "text/plain": [
       "         DIRECTP_D\n",
       "count  3749.000000\n",
       "mean      0.481462\n",
       "std       0.499723\n",
       "min       0.000000\n",
       "25%       0.000000\n",
       "50%       0.000000\n",
       "75%       1.000000\n",
       "max       1.000000"
      ]
     },
     "execution_count": 30,
     "metadata": {},
     "output_type": "execute_result"
    }
   ],
   "source": [
    "hcsdata[[\"DIRECTP_D\"]].describe()"
   ]
  },
  {
   "cell_type": "code",
   "execution_count": 31,
   "metadata": {},
   "outputs": [
    {
     "data": {
      "text/html": [
       "<div>\n",
       "<style scoped>\n",
       "    .dataframe tbody tr th:only-of-type {\n",
       "        vertical-align: middle;\n",
       "    }\n",
       "\n",
       "    .dataframe tbody tr th {\n",
       "        vertical-align: top;\n",
       "    }\n",
       "\n",
       "    .dataframe thead th {\n",
       "        text-align: right;\n",
       "    }\n",
       "</style>\n",
       "<table border=\"1\" class=\"dataframe\">\n",
       "  <thead>\n",
       "    <tr style=\"text-align: right;\">\n",
       "      <th></th>\n",
       "      <th>REF_D</th>\n",
       "    </tr>\n",
       "  </thead>\n",
       "  <tbody>\n",
       "    <tr>\n",
       "      <td>count</td>\n",
       "      <td>3749.000000</td>\n",
       "    </tr>\n",
       "    <tr>\n",
       "      <td>mean</td>\n",
       "      <td>0.449987</td>\n",
       "    </tr>\n",
       "    <tr>\n",
       "      <td>std</td>\n",
       "      <td>0.497559</td>\n",
       "    </tr>\n",
       "    <tr>\n",
       "      <td>min</td>\n",
       "      <td>0.000000</td>\n",
       "    </tr>\n",
       "    <tr>\n",
       "      <td>25%</td>\n",
       "      <td>0.000000</td>\n",
       "    </tr>\n",
       "    <tr>\n",
       "      <td>50%</td>\n",
       "      <td>0.000000</td>\n",
       "    </tr>\n",
       "    <tr>\n",
       "      <td>75%</td>\n",
       "      <td>1.000000</td>\n",
       "    </tr>\n",
       "    <tr>\n",
       "      <td>max</td>\n",
       "      <td>1.000000</td>\n",
       "    </tr>\n",
       "  </tbody>\n",
       "</table>\n",
       "</div>"
      ],
      "text/plain": [
       "             REF_D\n",
       "count  3749.000000\n",
       "mean      0.449987\n",
       "std       0.497559\n",
       "min       0.000000\n",
       "25%       0.000000\n",
       "50%       0.000000\n",
       "75%       1.000000\n",
       "max       1.000000"
      ]
     },
     "execution_count": 31,
     "metadata": {},
     "output_type": "execute_result"
    }
   ],
   "source": [
    "hcsdata[[\"REF_D\"]].describe()"
   ]
  },
  {
   "cell_type": "code",
   "execution_count": 32,
   "metadata": {},
   "outputs": [
    {
     "data": {
      "text/html": [
       "<div>\n",
       "<style scoped>\n",
       "    .dataframe tbody tr th:only-of-type {\n",
       "        vertical-align: middle;\n",
       "    }\n",
       "\n",
       "    .dataframe tbody tr th {\n",
       "        vertical-align: top;\n",
       "    }\n",
       "\n",
       "    .dataframe thead th {\n",
       "        text-align: right;\n",
       "    }\n",
       "</style>\n",
       "<table border=\"1\" class=\"dataframe\">\n",
       "  <thead>\n",
       "    <tr style=\"text-align: right;\">\n",
       "      <th></th>\n",
       "      <th>DURATION</th>\n",
       "    </tr>\n",
       "  </thead>\n",
       "  <tbody>\n",
       "    <tr>\n",
       "      <td>count</td>\n",
       "      <td>3749.000000</td>\n",
       "    </tr>\n",
       "    <tr>\n",
       "      <td>mean</td>\n",
       "      <td>25.317508</td>\n",
       "    </tr>\n",
       "    <tr>\n",
       "      <td>std</td>\n",
       "      <td>22.806497</td>\n",
       "    </tr>\n",
       "    <tr>\n",
       "      <td>min</td>\n",
       "      <td>0.029999</td>\n",
       "    </tr>\n",
       "    <tr>\n",
       "      <td>25%</td>\n",
       "      <td>9.449219</td>\n",
       "    </tr>\n",
       "    <tr>\n",
       "      <td>50%</td>\n",
       "      <td>17.777344</td>\n",
       "    </tr>\n",
       "    <tr>\n",
       "      <td>75%</td>\n",
       "      <td>33.656250</td>\n",
       "    </tr>\n",
       "    <tr>\n",
       "      <td>max</td>\n",
       "      <td>227.343750</td>\n",
       "    </tr>\n",
       "  </tbody>\n",
       "</table>\n",
       "</div>"
      ],
      "text/plain": [
       "          DURATION\n",
       "count  3749.000000\n",
       "mean     25.317508\n",
       "std      22.806497\n",
       "min       0.029999\n",
       "25%       9.449219\n",
       "50%      17.777344\n",
       "75%      33.656250\n",
       "max     227.343750"
      ]
     },
     "execution_count": 32,
     "metadata": {},
     "output_type": "execute_result"
    }
   ],
   "source": [
    "hcsdata[[\"DURATION\"]].describe()"
   ]
  },
  {
   "cell_type": "code",
   "execution_count": 33,
   "metadata": {},
   "outputs": [
    {
     "data": {
      "text/html": [
       "<div>\n",
       "<style scoped>\n",
       "    .dataframe tbody tr th:only-of-type {\n",
       "        vertical-align: middle;\n",
       "    }\n",
       "\n",
       "    .dataframe tbody tr th {\n",
       "        vertical-align: top;\n",
       "    }\n",
       "\n",
       "    .dataframe thead th {\n",
       "        text-align: right;\n",
       "    }\n",
       "</style>\n",
       "<table border=\"1\" class=\"dataframe\">\n",
       "  <thead>\n",
       "    <tr style=\"text-align: right;\">\n",
       "      <th></th>\n",
       "      <th>PAGES_VIEWED</th>\n",
       "    </tr>\n",
       "  </thead>\n",
       "  <tbody>\n",
       "    <tr>\n",
       "      <td>count</td>\n",
       "      <td>3749.000000</td>\n",
       "    </tr>\n",
       "    <tr>\n",
       "      <td>mean</td>\n",
       "      <td>18.331288</td>\n",
       "    </tr>\n",
       "    <tr>\n",
       "      <td>std</td>\n",
       "      <td>16.636523</td>\n",
       "    </tr>\n",
       "    <tr>\n",
       "      <td>min</td>\n",
       "      <td>1.000000</td>\n",
       "    </tr>\n",
       "    <tr>\n",
       "      <td>25%</td>\n",
       "      <td>8.000000</td>\n",
       "    </tr>\n",
       "    <tr>\n",
       "      <td>50%</td>\n",
       "      <td>13.000000</td>\n",
       "    </tr>\n",
       "    <tr>\n",
       "      <td>75%</td>\n",
       "      <td>23.000000</td>\n",
       "    </tr>\n",
       "    <tr>\n",
       "      <td>max</td>\n",
       "      <td>141.000000</td>\n",
       "    </tr>\n",
       "  </tbody>\n",
       "</table>\n",
       "</div>"
      ],
      "text/plain": [
       "       PAGES_VIEWED\n",
       "count   3749.000000\n",
       "mean      18.331288\n",
       "std       16.636523\n",
       "min        1.000000\n",
       "25%        8.000000\n",
       "50%       13.000000\n",
       "75%       23.000000\n",
       "max      141.000000"
      ]
     },
     "execution_count": 33,
     "metadata": {},
     "output_type": "execute_result"
    }
   ],
   "source": [
    "hcsdata[[\"PAGES_VIEWED\"]].describe()"
   ]
  },
  {
   "cell_type": "code",
   "execution_count": 34,
   "metadata": {},
   "outputs": [
    {
     "data": {
      "text/html": [
       "<div>\n",
       "<style scoped>\n",
       "    .dataframe tbody tr th:only-of-type {\n",
       "        vertical-align: middle;\n",
       "    }\n",
       "\n",
       "    .dataframe tbody tr th {\n",
       "        vertical-align: top;\n",
       "    }\n",
       "\n",
       "    .dataframe thead th {\n",
       "        text-align: right;\n",
       "    }\n",
       "</style>\n",
       "<table border=\"1\" class=\"dataframe\">\n",
       "  <thead>\n",
       "    <tr style=\"text-align: right;\">\n",
       "      <th></th>\n",
       "      <th>LOG_PRICE</th>\n",
       "    </tr>\n",
       "  </thead>\n",
       "  <tbody>\n",
       "    <tr>\n",
       "      <td>count</td>\n",
       "      <td>3749.000000</td>\n",
       "    </tr>\n",
       "    <tr>\n",
       "      <td>mean</td>\n",
       "      <td>4.439926</td>\n",
       "    </tr>\n",
       "    <tr>\n",
       "      <td>std</td>\n",
       "      <td>1.615478</td>\n",
       "    </tr>\n",
       "    <tr>\n",
       "      <td>min</td>\n",
       "      <td>0.000000</td>\n",
       "    </tr>\n",
       "    <tr>\n",
       "      <td>25%</td>\n",
       "      <td>4.289774</td>\n",
       "    </tr>\n",
       "    <tr>\n",
       "      <td>50%</td>\n",
       "      <td>4.762088</td>\n",
       "    </tr>\n",
       "    <tr>\n",
       "      <td>75%</td>\n",
       "      <td>5.303205</td>\n",
       "    </tr>\n",
       "    <tr>\n",
       "      <td>max</td>\n",
       "      <td>7.954386</td>\n",
       "    </tr>\n",
       "  </tbody>\n",
       "</table>\n",
       "</div>"
      ],
      "text/plain": [
       "         LOG_PRICE\n",
       "count  3749.000000\n",
       "mean      4.439926\n",
       "std       1.615478\n",
       "min       0.000000\n",
       "25%       4.289774\n",
       "50%       4.762088\n",
       "75%       5.303205\n",
       "max       7.954386"
      ]
     },
     "execution_count": 34,
     "metadata": {},
     "output_type": "execute_result"
    }
   ],
   "source": [
    "hcsdata[[\"LOG_PRICE\"]].describe()"
   ]
  },
  {
   "cell_type": "code",
   "execution_count": 35,
   "metadata": {},
   "outputs": [
    {
     "data": {
      "text/html": [
       "<div>\n",
       "<style scoped>\n",
       "    .dataframe tbody tr th:only-of-type {\n",
       "        vertical-align: middle;\n",
       "    }\n",
       "\n",
       "    .dataframe tbody tr th {\n",
       "        vertical-align: top;\n",
       "    }\n",
       "\n",
       "    .dataframe thead th {\n",
       "        text-align: right;\n",
       "    }\n",
       "</style>\n",
       "<table border=\"1\" class=\"dataframe\">\n",
       "  <thead>\n",
       "    <tr style=\"text-align: right;\">\n",
       "      <th></th>\n",
       "      <th>TRANS_FREQ</th>\n",
       "    </tr>\n",
       "  </thead>\n",
       "  <tbody>\n",
       "    <tr>\n",
       "      <td>count</td>\n",
       "      <td>3749.000000</td>\n",
       "    </tr>\n",
       "    <tr>\n",
       "      <td>mean</td>\n",
       "      <td>2.981328</td>\n",
       "    </tr>\n",
       "    <tr>\n",
       "      <td>std</td>\n",
       "      <td>4.120927</td>\n",
       "    </tr>\n",
       "    <tr>\n",
       "      <td>min</td>\n",
       "      <td>1.000000</td>\n",
       "    </tr>\n",
       "    <tr>\n",
       "      <td>25%</td>\n",
       "      <td>1.000000</td>\n",
       "    </tr>\n",
       "    <tr>\n",
       "      <td>50%</td>\n",
       "      <td>2.000000</td>\n",
       "    </tr>\n",
       "    <tr>\n",
       "      <td>75%</td>\n",
       "      <td>3.000000</td>\n",
       "    </tr>\n",
       "    <tr>\n",
       "      <td>max</td>\n",
       "      <td>30.000000</td>\n",
       "    </tr>\n",
       "  </tbody>\n",
       "</table>\n",
       "</div>"
      ],
      "text/plain": [
       "        TRANS_FREQ\n",
       "count  3749.000000\n",
       "mean      2.981328\n",
       "std       4.120927\n",
       "min       1.000000\n",
       "25%       1.000000\n",
       "50%       2.000000\n",
       "75%       3.000000\n",
       "max      30.000000"
      ]
     },
     "execution_count": 35,
     "metadata": {},
     "output_type": "execute_result"
    }
   ],
   "source": [
    "hcsdata[[\"TRANS_FREQ\"]].describe()"
   ]
  },
  {
   "cell_type": "markdown",
   "metadata": {},
   "source": [
    "# d) Please make a Scatter Plot and a Histogram for any of the variables of your own interests in the data. Then report any insights you may be able draw from the charts. "
   ]
  },
  {
   "cell_type": "markdown",
   "metadata": {},
   "source": [
    "- We created a Scatterplots for three variables: Duration, Pages_Viewed, and TRANS_FREQ"
   ]
  },
  {
   "cell_type": "code",
   "execution_count": 36,
   "metadata": {},
   "outputs": [
    {
     "data": {
      "text/plain": [
       "<seaborn.axisgrid.PairGrid at 0x1eb7f152248>"
      ]
     },
     "execution_count": 36,
     "metadata": {},
     "output_type": "execute_result"
    },
    {
     "data": {
      "image/png": "[encoded data removed]",
      "text/plain": [
       "<Figure size 720x720 with 20 Axes>"
      ]
     },
     "metadata": {
      "needs_background": "light"
     },
     "output_type": "display_data"
    }
   ],
   "source": [
    "sns.pairplot(hcsdata,vars=[\"DURATION\",\"PAGES_VIEWED\",\"TRANS_FREQ\",\"DIRECTP_D\"])"
   ]
  },
  {
   "cell_type": "code",
   "execution_count": 37,
   "metadata": {},
   "outputs": [
    {
     "data": {
      "text/plain": [
       "<matplotlib.axes._subplots.AxesSubplot at 0x1eb7f8ebf48>"
      ]
     },
     "execution_count": 37,
     "metadata": {},
     "output_type": "execute_result"
    },
    {
     "data": {
      "image/png": "[encoded data removed]",
      "text/plain": [
       "<Figure size 432x288 with 1 Axes>"
      ]
     },
     "metadata": {
      "needs_background": "light"
     },
     "output_type": "display_data"
    }
   ],
   "source": [
    "hcsdata[\"PAGES_VIEWED\"].plot.hist()"
   ]
  },
  {
   "cell_type": "code",
   "execution_count": 38,
   "metadata": {},
   "outputs": [
    {
     "data": {
      "text/plain": [
       "<matplotlib.axes._subplots.AxesSubplot at 0x1eb7fc45288>"
      ]
     },
     "execution_count": 38,
     "metadata": {},
     "output_type": "execute_result"
    },
    {
     "data": {
      "image/png": "[encoded data removed]",
      "text/plain": [
       "<Figure size 432x288 with 1 Axes>"
      ]
     },
     "metadata": {
      "needs_background": "light"
     },
     "output_type": "display_data"
    }
   ],
   "source": [
    "hcsdata[\"TRANS_FREQ\"].plot.hist()"
   ]
  },
  {
   "cell_type": "code",
   "execution_count": 39,
   "metadata": {},
   "outputs": [
    {
     "data": {
      "text/plain": [
       "<matplotlib.axes._subplots.AxesSubplot at 0x1eb7fcc3888>"
      ]
     },
     "execution_count": 39,
     "metadata": {},
     "output_type": "execute_result"
    },
    {
     "data": {
      "image/png": "[encoded data removed]",
      "text/plain": [
       "<Figure size 432x288 with 1 Axes>"
      ]
     },
     "metadata": {
      "needs_background": "light"
     },
     "output_type": "display_data"
    }
   ],
   "source": [
    "hcsdata[\"DURATION\"].plot.hist()"
   ]
  },
  {
   "cell_type": "code",
   "execution_count": 40,
   "metadata": {},
   "outputs": [
    {
     "data": {
      "text/plain": [
       "<matplotlib.axes._subplots.AxesSubplot at 0x1eb7fd25fc8>"
      ]
     },
     "execution_count": 40,
     "metadata": {},
     "output_type": "execute_result"
    },
    {
     "data": {
      "image/png": "[encoded data removed]",
      "text/plain": [
       "<Figure size 432x288 with 1 Axes>"
      ]
     },
     "metadata": {
      "needs_background": "light"
     },
     "output_type": "display_data"
    }
   ],
   "source": [
    "hcsdata[\"DIRECTP_D\"].plot.hist()"
   ]
  },
  {
   "cell_type": "markdown",
   "metadata": {},
   "source": [
    "# 2 ) Regression Analysis \n",
    "# Explolatory Data Analysis\n",
    "# What are the factors that influence how much time people spend on a website?"
   ]
  },
  {
   "cell_type": "code",
   "execution_count": 41,
   "metadata": {},
   "outputs": [
    {
     "data": {
      "text/plain": [
       "<seaborn.axisgrid.PairGrid at 0x1eb7fdba048>"
      ]
     },
     "execution_count": 41,
     "metadata": {},
     "output_type": "execute_result"
    },
    {
     "data": {
      "image/png": "[encoded data removed]",
      "text/plain": [
       "<Figure size 1080x1080 with 42 Axes>"
      ]
     },
     "metadata": {
      "needs_background": "light"
     },
     "output_type": "display_data"
    }
   ],
   "source": [
    "sns.pairplot(hcsdata,vars=[\"DURATION\",\"PAGES_VIEWED\",\"PROD_QTY\",\"PROD_TOTPRICE\",\"TRANS_FREQ\",\"CONNECTIONSPEED_D\"])"
   ]
  },
  {
   "cell_type": "code",
   "execution_count": 42,
   "metadata": {},
   "outputs": [
    {
     "data": {
      "text/plain": [
       "<seaborn.axisgrid.PairGrid at 0x1eb01fd5208>"
      ]
     },
     "execution_count": 42,
     "metadata": {},
     "output_type": "execute_result"
    },
    {
     "data": {
      "image/png": "[encoded data removed]",
      "text/plain": [
       "<Figure size 900x900 with 30 Axes>"
      ]
     },
     "metadata": {
      "needs_background": "light"
     },
     "output_type": "display_data"
    }
   ],
   "source": [
    "sns.pairplot(hcsdata,vars=[\"HOUSEHOLD_SIZE\",\"CHILDREN_D\",\"PROD_QTY\",\"TRANS_FREQ\",\"DIRECTP_D\"])"
   ]
  },
  {
   "cell_type": "code",
   "execution_count": 43,
   "metadata": {},
   "outputs": [
    {
     "data": {
      "image/png": "[encoded data removed]",
      "text/plain": [
       "<Figure size 432x288 with 1 Axes>"
      ]
     },
     "metadata": {
      "needs_background": "light"
     },
     "output_type": "display_data"
    }
   ],
   "source": [
    "plt.scatter(hcsdata['TRANS_FREQ'],hcsdata['HOUSEHOLD_SIZE'])\n",
    "plt.xlabel('TRANS_FREQ',fontsize=16)\n",
    "plt.ylabel('HOUSEHOLD_SIZE',fontsize=16)\n",
    "plt.title('Scatter Plot of HOUSEHOLD_SIZE vs TRANS_FREQ',fontsize=16)\n",
    "plt.show()"
   ]
  },
  {
   "cell_type": "code",
   "execution_count": 44,
   "metadata": {},
   "outputs": [
    {
     "data": {
      "image/png": "[encoded data removed]",
      "text/plain": [
       "<Figure size 432x288 with 1 Axes>"
      ]
     },
     "metadata": {
      "needs_background": "light"
     },
     "output_type": "display_data"
    }
   ],
   "source": [
    "plt.scatter(hcsdata['PROD_QTY'],hcsdata['HOUSEHOLD_SIZE'])\n",
    "plt.xlabel('PROD_QTY',fontsize=16)\n",
    "plt.ylabel('HOUSEHOLD_SIZE',fontsize=16)\n",
    "plt.title('Scatter Plot of HOUSEHOLD_SIZE vs PROD_QTY',fontsize=16)\n",
    "plt.show()"
   ]
  },
  {
   "cell_type": "code",
   "execution_count": 45,
   "metadata": {},
   "outputs": [
    {
     "data": {
      "image/png": "[encoded data removed]",
      "text/plain": [
       "<Figure size 432x288 with 1 Axes>"
      ]
     },
     "metadata": {
      "needs_background": "light"
     },
     "output_type": "display_data"
    }
   ],
   "source": [
    "plt.scatter(hcsdata['DURATION'],hcsdata['PAGES_VIEWED'])\n",
    "plt.xlabel('DURATION',fontsize=16)\n",
    "plt.ylabel('PAGES_VIEWED',fontsize=16)\n",
    "plt.title('Scatter Plot of DURATION vs PAGES_VIEWED',fontsize=16)\n",
    "plt.show()"
   ]
  },
  {
   "cell_type": "code",
   "execution_count": 46,
   "metadata": {},
   "outputs": [
    {
     "data": {
      "text/plain": [
       "<matplotlib.axes._subplots.AxesSubplot at 0x1eb0468ff08>"
      ]
     },
     "execution_count": 46,
     "metadata": {},
     "output_type": "execute_result"
    },
    {
     "data": {
      "image/png": "[encoded data removed]",
      "text/plain": [
       "<Figure size 432x288 with 1 Axes>"
      ]
     },
     "metadata": {
      "needs_background": "light"
     },
     "output_type": "display_data"
    }
   ],
   "source": [
    "hcsdata[\"REF_D\"].plot.hist()"
   ]
  },
  {
   "cell_type": "code",
   "execution_count": 47,
   "metadata": {},
   "outputs": [
    {
     "data": {
      "text/plain": [
       "<matplotlib.axes._subplots.AxesSubplot at 0x1eb04770988>"
      ]
     },
     "execution_count": 47,
     "metadata": {},
     "output_type": "execute_result"
    },
    {
     "data": {
      "image/png": "[encoded data removed]",
      "text/plain": [
       "<Figure size 432x288 with 1 Axes>"
      ]
     },
     "metadata": {
      "needs_background": "light"
     },
     "output_type": "display_data"
    }
   ],
   "source": [
    "hcsdata[\"DURATION\"].plot.hist()"
   ]
  },
  {
   "cell_type": "code",
   "execution_count": 48,
   "metadata": {},
   "outputs": [
    {
     "data": {
      "text/plain": [
       "<matplotlib.axes._subplots.AxesSubplot at 0x1eb047e23c8>"
      ]
     },
     "execution_count": 48,
     "metadata": {},
     "output_type": "execute_result"
    },
    {
     "data": {
      "image/png": "[encoded data removed]",
      "text/plain": [
       "<Figure size 432x288 with 1 Axes>"
      ]
     },
     "metadata": {
      "needs_background": "light"
     },
     "output_type": "display_data"
    }
   ],
   "source": [
    "hcsdata[\"PAGES_VIEWED\"].plot.hist()"
   ]
  },
  {
   "cell_type": "code",
   "execution_count": 49,
   "metadata": {},
   "outputs": [
    {
     "data": {
      "text/plain": [
       "<matplotlib.axes._subplots.AxesSubplot at 0x1eb0464bfc8>"
      ]
     },
     "execution_count": 49,
     "metadata": {},
     "output_type": "execute_result"
    },
    {
     "data": {
      "image/png": "[encoded data removed]",
      "text/plain": [
       "<Figure size 432x288 with 1 Axes>"
      ]
     },
     "metadata": {
      "needs_background": "light"
     },
     "output_type": "display_data"
    }
   ],
   "source": [
    "hcsdata[\"PROD_TOTPRICE\"].plot.hist()"
   ]
  },
  {
   "cell_type": "code",
   "execution_count": 50,
   "metadata": {},
   "outputs": [
    {
     "data": {
      "text/plain": [
       "<matplotlib.axes._subplots.AxesSubplot at 0x1eb04293908>"
      ]
     },
     "execution_count": 50,
     "metadata": {},
     "output_type": "execute_result"
    },
    {
     "data": {
      "image/png": "[encoded data removed]",
      "text/plain": [
       "<Figure size 432x288 with 1 Axes>"
      ]
     },
     "metadata": {
      "needs_background": "light"
     },
     "output_type": "display_data"
    }
   ],
   "source": [
    "hcsdata[\"LOG_PRICE\"].plot.hist()"
   ]
  },
  {
   "cell_type": "code",
   "execution_count": 51,
   "metadata": {},
   "outputs": [
    {
     "data": {
      "text/plain": [
       "<matplotlib.axes._subplots.AxesSubplot at 0x1eb04835108>"
      ]
     },
     "execution_count": 51,
     "metadata": {},
     "output_type": "execute_result"
    },
    {
     "data": {
      "image/png": "[encoded data removed]",
      "text/plain": [
       "<Figure size 432x288 with 1 Axes>"
      ]
     },
     "metadata": {
      "needs_background": "light"
     },
     "output_type": "display_data"
    }
   ],
   "source": [
    "hcsdata[\"HOUSEHOLD_SIZE\"].plot.hist()"
   ]
  },
  {
   "cell_type": "code",
   "execution_count": 52,
   "metadata": {},
   "outputs": [
    {
     "data": {
      "text/plain": [
       "<matplotlib.axes._subplots.AxesSubplot at 0x1eb048b45c8>"
      ]
     },
     "execution_count": 52,
     "metadata": {},
     "output_type": "execute_result"
    },
    {
     "data": {
      "image/png": "[encoded data removed]",
      "text/plain": [
       "<Figure size 432x288 with 1 Axes>"
      ]
     },
     "metadata": {
      "needs_background": "light"
     },
     "output_type": "display_data"
    }
   ],
   "source": [
    "hcsdata[\"TRANS_FREQ\"].plot.hist()"
   ]
  },
  {
   "cell_type": "code",
   "execution_count": 53,
   "metadata": {},
   "outputs": [
    {
     "data": {
      "text/plain": [
       "<matplotlib.axes._subplots.AxesSubplot at 0x1eb0492e688>"
      ]
     },
     "execution_count": 53,
     "metadata": {},
     "output_type": "execute_result"
    },
    {
     "data": {
      "image/png": "[encoded data removed]",
      "text/plain": [
       "<Figure size 432x288 with 1 Axes>"
      ]
     },
     "metadata": {
      "needs_background": "light"
     },
     "output_type": "display_data"
    }
   ],
   "source": [
    "hcsdata[\"CONNECTIONSPEED_D\"].plot.hist()"
   ]
  },
  {
   "cell_type": "code",
   "execution_count": 54,
   "metadata": {},
   "outputs": [
    {
     "data": {
      "text/plain": [
       "<matplotlib.axes._subplots.AxesSubplot at 0x1eb04995508>"
      ]
     },
     "execution_count": 54,
     "metadata": {},
     "output_type": "execute_result"
    },
    {
     "data": {
      "image/png": "[encoded data removed]",
      "text/plain": [
       "<Figure size 432x288 with 1 Axes>"
      ]
     },
     "metadata": {
      "needs_background": "light"
     },
     "output_type": "display_data"
    }
   ],
   "source": [
    "hcsdata[\"PROD_QTY\"].plot.hist()"
   ]
  },
  {
   "cell_type": "markdown",
   "metadata": {},
   "source": [
    "# 2a) Please use the linear regression technique to answer the question on \n",
    "* “what are the factors that influence how much time people spend on a website?”( Hint: use\n",
    "DURATION as your DV). \n",
    "* You should try different set of independent variables in the data\n",
    "set to see which one(s) has significant results (create dummy variables for some of the nonnumerical variables if needed). (Hint: you may start with doing pair-wise correlations\n",
    "between Y and other variables to see what variables are significantly correlated with Y.)\n",
    "\n",
    "\n",
    "Please report 1) the final set of independent variables you have chosen and why you have\n",
    "chosen them; and 2) the estimated regression equation with simple explanations for each\n",
    "estimated coefficient (β). Please ONLY report and interpret your final regression results. "
   ]
  },
  {
   "cell_type": "code",
   "execution_count": 55,
   "metadata": {},
   "outputs": [
    {
     "data": {
      "text/plain": [
       "Index(['ID', 'DOMAIN_ID', 'MACHINE_ID', 'SITE_SESSION_ID', 'TRANS_FREQ',\n",
       "       'DOMAIN_NAME', 'DIRECTP_D', 'PROD_NAME', 'PROD_QTY', 'PROD_TOTPRICE',\n",
       "       'REF_DOMAIN_NAME', 'DURATION', 'PAGES_VIEWED', 'HOUSEHOLD_SIZE',\n",
       "       'CHILDREN_D', 'CONNECTIONSPEED_D', 'REF_D', 'LOG_PRICE'],\n",
       "      dtype='object')"
      ]
     },
     "execution_count": 55,
     "metadata": {},
     "output_type": "execute_result"
    }
   ],
   "source": [
    "hcsdata.columns"
   ]
  },
  {
   "cell_type": "markdown",
   "metadata": {},
   "source": [
    "# Correlation Analysis: This test is performed in order to check if there exist any significant statistical correlation between the variables"
   ]
  },
  {
   "cell_type": "code",
   "execution_count": 56,
   "metadata": {},
   "outputs": [
    {
     "data": {
      "text/plain": [
       "('DURATION',\n",
       " 'PAGES_VIEWED',\n",
       " 'PROD_TOTPRICE',\n",
       " 'TRANS_FREQ',\n",
       " 'CONNECTIONSPEED_D',\n",
       " 'DIRECTP_D')"
      ]
     },
     "execution_count": 56,
     "metadata": {},
     "output_type": "execute_result"
    }
   ],
   "source": [
    "\"DURATION\",\"PAGES_VIEWED\",\"PROD_TOTPRICE\",\"TRANS_FREQ\",\"CONNECTIONSPEED_D\", \"DIRECTP_D\""
   ]
  },
  {
   "cell_type": "markdown",
   "metadata": {},
   "source": [
    "# Testing to  see which Indepedent Variables has significant results for 2a"
   ]
  },
  {
   "cell_type": "code",
   "execution_count": 79,
   "metadata": {},
   "outputs": [
    {
     "data": {
      "text/plain": [
       "array([[1.        , 0.02502847],\n",
       "       [0.02502847, 1.        ]])"
      ]
     },
     "execution_count": 79,
     "metadata": {},
     "output_type": "execute_result"
    }
   ],
   "source": [
    "np.corrcoef(hcsdata.PAGES_VIEWED, hcsdata.TRANS_FREQ)"
   ]
  },
  {
   "cell_type": "code",
   "execution_count": 80,
   "metadata": {},
   "outputs": [
    {
     "data": {
      "text/plain": [
       "array([[ 1.        , -0.00739311],\n",
       "       [-0.00739311,  1.        ]])"
      ]
     },
     "execution_count": 80,
     "metadata": {},
     "output_type": "execute_result"
    }
   ],
   "source": [
    "np.corrcoef(hcsdata.PAGES_VIEWED, hcsdata.CONNECTIONSPEED_D)"
   ]
  },
  {
   "cell_type": "code",
   "execution_count": 81,
   "metadata": {},
   "outputs": [
    {
     "data": {
      "text/plain": [
       "array([[ 1.        , -0.06566124],\n",
       "       [-0.06566124,  1.        ]])"
      ]
     },
     "execution_count": 81,
     "metadata": {},
     "output_type": "execute_result"
    }
   ],
   "source": [
    "np.corrcoef(hcsdata.PAGES_VIEWED, hcsdata.DIRECTP_D)"
   ]
  },
  {
   "cell_type": "code",
   "execution_count": 86,
   "metadata": {},
   "outputs": [
    {
     "data": {
      "text/plain": [
       "array([[1.        , 0.03654548],\n",
       "       [0.03654548, 1.        ]])"
      ]
     },
     "execution_count": 86,
     "metadata": {},
     "output_type": "execute_result"
    }
   ],
   "source": [
    "np.corrcoef(hcsdata.TRANS_FREQ, hcsdata.CONNECTIONSPEED_D)"
   ]
  },
  {
   "cell_type": "code",
   "execution_count": 87,
   "metadata": {},
   "outputs": [
    {
     "data": {
      "text/plain": [
       "array([[1.        , 0.16320903],\n",
       "       [0.16320903, 1.        ]])"
      ]
     },
     "execution_count": 87,
     "metadata": {},
     "output_type": "execute_result"
    }
   ],
   "source": [
    "np.corrcoef(hcsdata.TRANS_FREQ, hcsdata.DIRECTP_D)"
   ]
  },
  {
   "cell_type": "code",
   "execution_count": 88,
   "metadata": {},
   "outputs": [
    {
     "data": {
      "text/plain": [
       "array([[1.        , 0.01195759],\n",
       "       [0.01195759, 1.        ]])"
      ]
     },
     "execution_count": 88,
     "metadata": {},
     "output_type": "execute_result"
    }
   ],
   "source": [
    "np.corrcoef(hcsdata.CONNECTIONSPEED_D, hcsdata.DIRECTP_D)"
   ]
  },
  {
   "cell_type": "markdown",
   "metadata": {},
   "source": [
    "# Choosing the Independent Variables after testing for significant relationship\n",
    "# For the DURATION "
   ]
  },
  {
   "cell_type": "code",
   "execution_count": 66,
   "metadata": {},
   "outputs": [
    {
     "data": {
      "text/plain": [
       "array([[1.       , 0.6850715],\n",
       "       [0.6850715, 1.       ]])"
      ]
     },
     "execution_count": 66,
     "metadata": {},
     "output_type": "execute_result"
    }
   ],
   "source": [
    "np.corrcoef(hcsdata.DURATION, hcsdata.PAGES_VIEWED)"
   ]
  },
  {
   "cell_type": "code",
   "execution_count": 77,
   "metadata": {},
   "outputs": [
    {
     "data": {
      "text/plain": [
       "array([[ 1.        , -0.18200168],\n",
       "       [-0.18200168,  1.        ]])"
      ]
     },
     "execution_count": 77,
     "metadata": {},
     "output_type": "execute_result"
    }
   ],
   "source": [
    "np.corrcoef(hcsdata.DURATION, hcsdata.DIRECTP_D)"
   ]
  },
  {
   "cell_type": "code",
   "execution_count": 78,
   "metadata": {},
   "outputs": [
    {
     "data": {
      "text/plain": [
       "array([[ 1.        , -0.02153259],\n",
       "       [-0.02153259,  1.        ]])"
      ]
     },
     "execution_count": 78,
     "metadata": {},
     "output_type": "execute_result"
    }
   ],
   "source": [
    "np.corrcoef(hcsdata.DURATION, hcsdata.CONNECTIONSPEED_D)"
   ]
  },
  {
   "cell_type": "code",
   "execution_count": 67,
   "metadata": {},
   "outputs": [
    {
     "data": {
      "text/plain": [
       "array([[ 1.        , -0.01091669],\n",
       "       [-0.01091669,  1.        ]])"
      ]
     },
     "execution_count": 67,
     "metadata": {},
     "output_type": "execute_result"
    }
   ],
   "source": [
    "np.corrcoef(hcsdata.DURATION, hcsdata.TRANS_FREQ)"
   ]
  },
  {
   "cell_type": "markdown",
   "metadata": {},
   "source": [
    "# Regression Analysis of DURATION"
   ]
  },
  {
   "cell_type": "code",
   "execution_count": 89,
   "metadata": {},
   "outputs": [],
   "source": [
    "regmod=sm.OLS(hcsdata.DURATION,hcsdata[['PAGES_VIEWED','DIRECTP_D','CONNECTIONSPEED_D','TRANS_FREQ']])"
   ]
  },
  {
   "cell_type": "code",
   "execution_count": 90,
   "metadata": {},
   "outputs": [],
   "source": [
    "regfit=regmod.fit()"
   ]
  },
  {
   "cell_type": "code",
   "execution_count": 91,
   "metadata": {},
   "outputs": [
    {
     "name": "stdout",
     "output_type": "stream",
     "text": [
      "                                 OLS Regression Results                                \n",
      "=======================================================================================\n",
      "Dep. Variable:               DURATION   R-squared (uncentered):                   0.769\n",
      "Model:                            OLS   Adj. R-squared (uncentered):              0.769\n",
      "Method:                 Least Squares   F-statistic:                              3123.\n",
      "Date:                Sat, 28 Mar 2020   Prob (F-statistic):                        0.00\n",
      "Time:                        18:02:33   Log-Likelihood:                         -15798.\n",
      "No. Observations:                3749   AIC:                                  3.160e+04\n",
      "Df Residuals:                    3745   BIC:                                  3.163e+04\n",
      "Df Model:                           4                                                  \n",
      "Covariance Type:            nonrobust                                                  \n",
      "=====================================================================================\n",
      "                        coef    std err          t      P>|t|      [0.025      0.975]\n",
      "-------------------------------------------------------------------------------------\n",
      "PAGES_VIEWED          0.9355      0.016     58.370      0.000       0.904       0.967\n",
      "DIRECTP_D            -6.0293      0.542    -11.119      0.000      -7.092      -4.966\n",
      "CONNECTIONSPEED_D    11.1132      0.504     22.068      0.000      10.126      12.101\n",
      "TRANS_FREQ           -0.0239      0.066     -0.363      0.716      -0.153       0.105\n",
      "==============================================================================\n",
      "Omnibus:                     1293.854   Durbin-Watson:                   1.976\n",
      "Prob(Omnibus):                  0.000   Jarque-Bera (JB):             8704.159\n",
      "Skew:                           1.476   Prob(JB):                         0.00\n",
      "Kurtosis:                       9.856   Cond. No.                         59.5\n",
      "==============================================================================\n",
      "\n",
      "Warnings:\n",
      "[1] Standard Errors assume that the covariance matrix of the errors is correctly specified.\n"
     ]
    }
   ],
   "source": [
    "print(regfit.summary())"
   ]
  },
  {
   "cell_type": "markdown",
   "metadata": {},
   "source": [
    "# Included Constant"
   ]
  },
  {
   "cell_type": "code",
   "execution_count": 92,
   "metadata": {},
   "outputs": [],
   "source": [
    "indvars=sm.add_constant(hcsdata[['PAGES_VIEWED','DIRECTP_D','CONNECTIONSPEED_D','TRANS_FREQ']])"
   ]
  },
  {
   "cell_type": "code",
   "execution_count": 93,
   "metadata": {},
   "outputs": [
    {
     "name": "stdout",
     "output_type": "stream",
     "text": [
      "                            OLS Regression Results                            \n",
      "==============================================================================\n",
      "Dep. Variable:               DURATION   R-squared:                       0.488\n",
      "Model:                            OLS   Adj. R-squared:                  0.488\n",
      "Method:                 Least Squares   F-statistic:                     893.6\n",
      "Date:                Sat, 28 Mar 2020   Prob (F-statistic):               0.00\n",
      "Time:                        18:02:53   Log-Likelihood:                -15786.\n",
      "No. Observations:                3749   AIC:                         3.158e+04\n",
      "Df Residuals:                    3744   BIC:                         3.161e+04\n",
      "Df Model:                           4                                         \n",
      "Covariance Type:            nonrobust                                         \n",
      "=====================================================================================\n",
      "                        coef    std err          t      P>|t|      [0.025      0.975]\n",
      "-------------------------------------------------------------------------------------\n",
      "const                15.2123      3.057      4.976      0.000       9.219      21.206\n",
      "PAGES_VIEWED          0.9269      0.016     57.676      0.000       0.895       0.958\n",
      "DIRECTP_D            -6.2348      0.542    -11.501      0.000      -7.298      -5.172\n",
      "CONNECTIONSPEED_D    -3.8307      3.045     -1.258      0.208      -9.800       2.139\n",
      "TRANS_FREQ           -0.0277      0.066     -0.422      0.673      -0.156       0.101\n",
      "==============================================================================\n",
      "Omnibus:                     1299.534   Durbin-Watson:                   1.981\n",
      "Prob(Omnibus):                  0.000   Jarque-Bera (JB):             9045.129\n",
      "Skew:                           1.472   Prob(JB):                         0.00\n",
      "Kurtosis:                      10.017   Cond. No.                         401.\n",
      "==============================================================================\n",
      "\n",
      "Warnings:\n",
      "[1] Standard Errors assume that the covariance matrix of the errors is correctly specified.\n"
     ]
    }
   ],
   "source": [
    "regmod=sm.OLS(hcsdata.DURATION,indvars)\n",
    "regfit=regmod.fit()\n",
    "print(regfit.summary())"
   ]
  },
  {
   "cell_type": "markdown",
   "metadata": {},
   "source": [
    "# 2b) What are the factors that influence how many pages people view when visiting a website?”\n",
    "(Hint:use PAGES_VIEWED as your DV). And decide your IVs by conducting the similar exercises in the above analysis. Please ONLY report and interpret your final regression results."
   ]
  },
  {
   "cell_type": "markdown",
   "metadata": {},
   "source": [
    "# Testing for Independent Variables Correlation for PAGES_VIEWED(DV)"
   ]
  },
  {
   "cell_type": "code",
   "execution_count": 102,
   "metadata": {},
   "outputs": [
    {
     "data": {
      "text/plain": [
       "array([[1.        , 0.12712173],\n",
       "       [0.12712173, 1.        ]])"
      ]
     },
     "execution_count": 102,
     "metadata": {},
     "output_type": "execute_result"
    }
   ],
   "source": [
    "np.corrcoef(hcsdata.DURATION, hcsdata.PROD_QTY)"
   ]
  },
  {
   "cell_type": "code",
   "execution_count": 104,
   "metadata": {},
   "outputs": [
    {
     "data": {
      "text/plain": [
       "array([[1.        , 0.00351351],\n",
       "       [0.00351351, 1.        ]])"
      ]
     },
     "execution_count": 104,
     "metadata": {},
     "output_type": "execute_result"
    }
   ],
   "source": [
    "np.corrcoef(hcsdata.DURATION, hcsdata.REF_D)"
   ]
  },
  {
   "cell_type": "code",
   "execution_count": 105,
   "metadata": {},
   "outputs": [
    {
     "data": {
      "text/plain": [
       "array([[ 1.        , -0.04870552],\n",
       "       [-0.04870552,  1.        ]])"
      ]
     },
     "execution_count": 105,
     "metadata": {},
     "output_type": "execute_result"
    }
   ],
   "source": [
    "np.corrcoef(hcsdata.REF_D, hcsdata.PROD_QTY)"
   ]
  },
  {
   "cell_type": "markdown",
   "metadata": {},
   "source": [
    "# Correlation values already ran above, but see the correlation values between the PAGES VIEWED and the ones chosen."
   ]
  },
  {
   "cell_type": "code",
   "execution_count": 106,
   "metadata": {},
   "outputs": [
    {
     "data": {
      "text/plain": [
       "array([[1.       , 0.6850715],\n",
       "       [0.6850715, 1.       ]])"
      ]
     },
     "execution_count": 106,
     "metadata": {},
     "output_type": "execute_result"
    }
   ],
   "source": [
    "np.corrcoef(hcsdata.PAGES_VIEWED, hcsdata.DURATION)"
   ]
  },
  {
   "cell_type": "code",
   "execution_count": 96,
   "metadata": {},
   "outputs": [
    {
     "data": {
      "text/plain": [
       "array([[1.        , 0.12627839],\n",
       "       [0.12627839, 1.        ]])"
      ]
     },
     "execution_count": 96,
     "metadata": {},
     "output_type": "execute_result"
    }
   ],
   "source": [
    "np.corrcoef(hcsdata.PAGES_VIEWED, hcsdata.PROD_QTY)"
   ]
  },
  {
   "cell_type": "code",
   "execution_count": 107,
   "metadata": {},
   "outputs": [
    {
     "data": {
      "text/plain": [
       "array([[ 1.        , -0.00744194],\n",
       "       [-0.00744194,  1.        ]])"
      ]
     },
     "execution_count": 107,
     "metadata": {},
     "output_type": "execute_result"
    }
   ],
   "source": [
    "np.corrcoef(hcsdata.PAGES_VIEWED, hcsdata.REF_D)"
   ]
  },
  {
   "cell_type": "markdown",
   "metadata": {},
   "source": [
    "# Regression Analysis of DURATION"
   ]
  },
  {
   "cell_type": "code",
   "execution_count": 108,
   "metadata": {},
   "outputs": [],
   "source": [
    "regmodB=sm.OLS(hcsdata.PAGES_VIEWED,hcsdata[['DURATION','REF_D','PROD_QTY']])"
   ]
  },
  {
   "cell_type": "code",
   "execution_count": 109,
   "metadata": {},
   "outputs": [
    {
     "name": "stdout",
     "output_type": "stream",
     "text": [
      "                                 OLS Regression Results                                \n",
      "=======================================================================================\n",
      "Dep. Variable:           PAGES_VIEWED   R-squared (uncentered):                   0.751\n",
      "Model:                            OLS   Adj. R-squared (uncentered):              0.751\n",
      "Method:                 Least Squares   F-statistic:                              3775.\n",
      "Date:                Sat, 28 Mar 2020   Prob (F-statistic):                        0.00\n",
      "Time:                        18:38:20   Log-Likelihood:                         -14740.\n",
      "No. Observations:                3749   AIC:                                  2.949e+04\n",
      "Df Residuals:                    3746   BIC:                                  2.951e+04\n",
      "Df Model:                           3                                                  \n",
      "Covariance Type:            nonrobust                                                  \n",
      "==============================================================================\n",
      "                 coef    std err          t      P>|t|      [0.025      0.975]\n",
      "------------------------------------------------------------------------------\n",
      "DURATION       0.5450      0.008     68.650      0.000       0.529       0.561\n",
      "REF_D          1.9725      0.361      5.467      0.000       1.265       2.680\n",
      "PROD_QTY       1.4468      0.122     11.816      0.000       1.207       1.687\n",
      "==============================================================================\n",
      "Omnibus:                     1416.419   Durbin-Watson:                   1.868\n",
      "Prob(Omnibus):                  0.000   Jarque-Bera (JB):            19425.997\n",
      "Skew:                           1.411   Prob(JB):                         0.00\n",
      "Kurtosis:                      13.789   Cond. No.                         61.3\n",
      "==============================================================================\n",
      "\n",
      "Warnings:\n",
      "[1] Standard Errors assume that the covariance matrix of the errors is correctly specified.\n"
     ]
    }
   ],
   "source": [
    "regfitB=regmodB.fit()\n",
    "print(regfitB.summary())"
   ]
  },
  {
   "cell_type": "markdown",
   "metadata": {},
   "source": [
    "# Included Constant"
   ]
  },
  {
   "cell_type": "code",
   "execution_count": 112,
   "metadata": {},
   "outputs": [],
   "source": [
    "indvarsB=sm.add_constant(hcsdata[['DURATION','REF_D','PROD_QTY']])"
   ]
  },
  {
   "cell_type": "code",
   "execution_count": 113,
   "metadata": {},
   "outputs": [
    {
     "name": "stdout",
     "output_type": "stream",
     "text": [
      "                            OLS Regression Results                            \n",
      "==============================================================================\n",
      "Dep. Variable:           PAGES_VIEWED   R-squared:                       0.471\n",
      "Model:                            OLS   Adj. R-squared:                  0.471\n",
      "Method:                 Least Squares   F-statistic:                     1111.\n",
      "Date:                Sat, 28 Mar 2020   Prob (F-statistic):               0.00\n",
      "Time:                        18:39:24   Log-Likelihood:                -14666.\n",
      "No. Observations:                3749   AIC:                         2.934e+04\n",
      "Df Residuals:                    3745   BIC:                         2.937e+04\n",
      "Df Model:                           3                                         \n",
      "Covariance Type:            nonrobust                                         \n",
      "==============================================================================\n",
      "                 coef    std err          t      P>|t|      [0.025      0.975]\n",
      "------------------------------------------------------------------------------\n",
      "const          5.0782      0.413     12.286      0.000       4.268       5.889\n",
      "DURATION       0.4961      0.009     56.752      0.000       0.479       0.513\n",
      "REF_D         -0.2645      0.398     -0.665      0.506      -1.045       0.516\n",
      "PROD_QTY       0.4729      0.144      3.287      0.001       0.191       0.755\n",
      "==============================================================================\n",
      "Omnibus:                     1743.019   Durbin-Watson:                   1.888\n",
      "Prob(Omnibus):                  0.000   Jarque-Bera (JB):            24341.235\n",
      "Skew:                           1.846   Prob(JB):                         0.00\n",
      "Kurtosis:                      14.924   Cond. No.                         85.1\n",
      "==============================================================================\n",
      "\n",
      "Warnings:\n",
      "[1] Standard Errors assume that the covariance matrix of the errors is correctly specified.\n"
     ]
    }
   ],
   "source": [
    "regmodB=sm.OLS(hcsdata.PAGES_VIEWED,indvarsB)\n",
    "regfitB=regmodB.fit()\n",
    "print(regfitB.summary())"
   ]
  },
  {
   "cell_type": "markdown",
   "metadata": {},
   "source": [
    "# 2d) Please summarize your observations by comparing the results from a) and b)"
   ]
  },
  {
   "cell_type": "markdown",
   "metadata": {},
   "source": [
    " Included in Final Report on Word."
   ]
  }
 ],
 "metadata": {
  "kernelspec": {
   "display_name": "Python 3",
   "language": "python",
   "name": "python3"
  },
  "language_info": {
   "codemirror_mode": {
    "name": "ipython",
    "version": 3
   },
   "file_extension": ".py",
   "mimetype": "text/x-python",
   "name": "python",
   "nbconvert_exporter": "python",
   "pygments_lexer": "ipython3",
   "version": "3.7.4"
  }
 },
 "nbformat": 4,
 "nbformat_minor": 2
}
